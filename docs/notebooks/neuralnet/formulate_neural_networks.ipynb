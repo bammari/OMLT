{
 "cells": [
  {
   "cell_type": "markdown",
   "id": "5e5e738f",
   "metadata": {},
   "source": [
    "# Formulate Full-Space and Reduced-Space Neural Networks in OMLT\n",
    "\n",
    "### In this example we show how different neural networks can be formulated using Pyomo and OMLT."
   ]
  },
  {
   "cell_type": "code",
   "execution_count": 1,
   "id": "37b936b8",
   "metadata": {},
   "outputs": [],
   "source": [
    "import pyomo.environ as pyo\n",
    "import numpy as np\n",
    "import pandas as pd\n",
    "import json\n",
    "import matplotlib.pyplot as plt\n",
    "import matplotlib\n",
    "matplotlib.rc('font', size=24)\n",
    "plt.rc('axes', titlesize=24)\n",
    "\n",
    "import pyomo.environ as pyo\n",
    "#from tensorflow.keras.models import load_model"
   ]
  },
  {
   "cell_type": "code",
   "execution_count": 2,
   "id": "5fe99358",
   "metadata": {},
   "outputs": [],
   "source": [
    "from tensorflow.keras.models import Sequential, Model\n",
    "from tensorflow.keras.layers import Dense, Input\n",
    "from tensorflow.keras.optimizers import Adam\n",
    "import tensorflow as tf\n",
    "\n",
    "import pandas as pd\n",
    "import numpy as np\n",
    "import json\n",
    "\n",
    "tf.keras.backend.set_floatx('float64')"
   ]
  },
  {
   "cell_type": "code",
   "execution_count": 20,
   "id": "b3fd7ee5",
   "metadata": {},
   "outputs": [],
   "source": [
    "from omlt import OmltBlock\n",
    "from omlt.neuralnet import NetworkDefinition, NeuralNetworkFormulation,ComplementarityReLUActivation\n",
    "from omlt.io import keras_reader\n",
    "import omlt"
   ]
  },
  {
   "cell_type": "markdown",
   "id": "6a1977f3",
   "metadata": {},
   "source": [
    "## Import the Data"
   ]
  },
  {
   "cell_type": "markdown",
   "id": "ad6a176a",
   "metadata": {},
   "source": [
    "For demonstration purposes, we trained a neural network that learned a simple sin wave function given by:\n",
    "$y=sin(\\omega x) + x^2$ on the interval $x \\in [-2,2]$"
   ]
  },
  {
   "cell_type": "code",
   "execution_count": 4,
   "id": "15bdf8f1",
   "metadata": {},
   "outputs": [
    {
     "data": {
      "text/html": [
       "<div>\n",
       "<style scoped>\n",
       "    .dataframe tbody tr th:only-of-type {\n",
       "        vertical-align: middle;\n",
       "    }\n",
       "\n",
       "    .dataframe tbody tr th {\n",
       "        vertical-align: top;\n",
       "    }\n",
       "\n",
       "    .dataframe thead th {\n",
       "        text-align: right;\n",
       "    }\n",
       "</style>\n",
       "<table border=\"1\" class=\"dataframe\">\n",
       "  <thead>\n",
       "    <tr style=\"text-align: right;\">\n",
       "      <th></th>\n",
       "      <th>Unnamed: 0</th>\n",
       "      <th>x</th>\n",
       "      <th>y</th>\n",
       "      <th>x_scaled</th>\n",
       "      <th>y_scaled</th>\n",
       "    </tr>\n",
       "  </thead>\n",
       "  <tbody>\n",
       "    <tr>\n",
       "      <th>0</th>\n",
       "      <td>0</td>\n",
       "      <td>-2.0000</td>\n",
       "      <td>4.544021</td>\n",
       "      <td>-1.731791</td>\n",
       "      <td>2.328999</td>\n",
       "    </tr>\n",
       "    <tr>\n",
       "      <th>1</th>\n",
       "      <td>1</td>\n",
       "      <td>-1.9996</td>\n",
       "      <td>4.540742</td>\n",
       "      <td>-1.731445</td>\n",
       "      <td>2.326620</td>\n",
       "    </tr>\n",
       "    <tr>\n",
       "      <th>2</th>\n",
       "      <td>2</td>\n",
       "      <td>-1.9992</td>\n",
       "      <td>4.537460</td>\n",
       "      <td>-1.731098</td>\n",
       "      <td>2.324239</td>\n",
       "    </tr>\n",
       "    <tr>\n",
       "      <th>3</th>\n",
       "      <td>3</td>\n",
       "      <td>-1.9988</td>\n",
       "      <td>4.534177</td>\n",
       "      <td>-1.730752</td>\n",
       "      <td>2.321858</td>\n",
       "    </tr>\n",
       "    <tr>\n",
       "      <th>4</th>\n",
       "      <td>4</td>\n",
       "      <td>-1.9984</td>\n",
       "      <td>4.530892</td>\n",
       "      <td>-1.730405</td>\n",
       "      <td>2.319475</td>\n",
       "    </tr>\n",
       "    <tr>\n",
       "      <th>...</th>\n",
       "      <td>...</td>\n",
       "      <td>...</td>\n",
       "      <td>...</td>\n",
       "      <td>...</td>\n",
       "      <td>...</td>\n",
       "    </tr>\n",
       "    <tr>\n",
       "      <th>9995</th>\n",
       "      <td>9995</td>\n",
       "      <td>1.9984</td>\n",
       "      <td>3.456311</td>\n",
       "      <td>1.730405</td>\n",
       "      <td>1.539920</td>\n",
       "    </tr>\n",
       "    <tr>\n",
       "      <th>9996</th>\n",
       "      <td>9996</td>\n",
       "      <td>1.9988</td>\n",
       "      <td>3.456225</td>\n",
       "      <td>1.730752</td>\n",
       "      <td>1.539857</td>\n",
       "    </tr>\n",
       "    <tr>\n",
       "      <th>9997</th>\n",
       "      <td>9997</td>\n",
       "      <td>1.9992</td>\n",
       "      <td>3.456140</td>\n",
       "      <td>1.731098</td>\n",
       "      <td>1.539796</td>\n",
       "    </tr>\n",
       "    <tr>\n",
       "      <th>9998</th>\n",
       "      <td>9998</td>\n",
       "      <td>1.9996</td>\n",
       "      <td>3.456058</td>\n",
       "      <td>1.731445</td>\n",
       "      <td>1.539737</td>\n",
       "    </tr>\n",
       "    <tr>\n",
       "      <th>9999</th>\n",
       "      <td>9999</td>\n",
       "      <td>2.0000</td>\n",
       "      <td>3.455979</td>\n",
       "      <td>1.731791</td>\n",
       "      <td>1.539679</td>\n",
       "    </tr>\n",
       "  </tbody>\n",
       "</table>\n",
       "<p>10000 rows × 5 columns</p>\n",
       "</div>"
      ],
      "text/plain": [
       "      Unnamed: 0       x         y  x_scaled  y_scaled\n",
       "0              0 -2.0000  4.544021 -1.731791  2.328999\n",
       "1              1 -1.9996  4.540742 -1.731445  2.326620\n",
       "2              2 -1.9992  4.537460 -1.731098  2.324239\n",
       "3              3 -1.9988  4.534177 -1.730752  2.321858\n",
       "4              4 -1.9984  4.530892 -1.730405  2.319475\n",
       "...          ...     ...       ...       ...       ...\n",
       "9995        9995  1.9984  3.456311  1.730405  1.539920\n",
       "9996        9996  1.9988  3.456225  1.730752  1.539857\n",
       "9997        9997  1.9992  3.456140  1.731098  1.539796\n",
       "9998        9998  1.9996  3.456058  1.731445  1.539737\n",
       "9999        9999  2.0000  3.455979  1.731791  1.539679\n",
       "\n",
       "[10000 rows x 5 columns]"
      ]
     },
     "execution_count": 4,
     "metadata": {},
     "output_type": "execute_result"
    }
   ],
   "source": [
    "#load the original training data\n",
    "df = pd.read_csv(\"keras_model_sin_wave/sinwave_dataset.csv\")\n",
    "df"
   ]
  },
  {
   "cell_type": "markdown",
   "id": "726c3b4e",
   "metadata": {},
   "source": [
    "The training data captures the function of interest and is plotted below"
   ]
  },
  {
   "cell_type": "code",
   "execution_count": 5,
   "id": "829e0e61",
   "metadata": {},
   "outputs": [
    {
     "data": {
      "image/png": "[encoded data removed]",
      "text/plain": [
       "<Figure size 432x288 with 1 Axes>"
      ]
     },
     "metadata": {
      "needs_background": "light"
     },
     "output_type": "display_data"
    }
   ],
   "source": [
    "x = df[\"x\"]\n",
    "y = df[\"y\"]\n",
    "plt.plot(x,y)\n",
    "plt.xlabel(\"x\")\n",
    "plt.ylabel(\"sin(wx) + x^2\");"
   ]
  },
  {
   "cell_type": "markdown",
   "id": "61ee8536",
   "metadata": {},
   "source": [
    "## Train the Neural Network"
   ]
  },
  {
   "cell_type": "code",
   "execution_count": 6,
   "id": "7a33ecdf",
   "metadata": {},
   "outputs": [],
   "source": [
    "model1 = Sequential(name='sin_wave')\n",
    "\n",
    "model1.add(Input(1))\n",
    "model1.add(Dense(100, activation='relu'))\n",
    "model1.add(Dense(100, activation='relu'))\n",
    "model1.add(Dense(100, activation='relu'))\n",
    "model1.add(Dense(1))\n",
    "model1.compile(optimizer=Adam(), loss='mse')"
   ]
  },
  {
   "cell_type": "code",
   "execution_count": 7,
   "id": "6817b013",
   "metadata": {},
   "outputs": [
    {
     "name": "stdout",
     "output_type": "stream",
     "text": [
      "Epoch 1/10\n",
      "313/313 [==============================] - 1s 3ms/step - loss: 0.2387\n",
      "Epoch 2/10\n",
      "313/313 [==============================] - 1s 3ms/step - loss: 0.0747\n",
      "Epoch 3/10\n",
      "313/313 [==============================] - 1s 3ms/step - loss: 0.0594\n",
      "Epoch 4/10\n",
      "313/313 [==============================] - 1s 4ms/step - loss: 0.0384\n",
      "Epoch 5/10\n",
      "313/313 [==============================] - 1s 3ms/step - loss: 0.0108\n",
      "Epoch 6/10\n",
      "313/313 [==============================] - 2s 5ms/step - loss: 0.0014\n",
      "Epoch 7/10\n",
      "313/313 [==============================] - 2s 7ms/step - loss: 6.0876e-04\n",
      "Epoch 8/10\n",
      "313/313 [==============================] - 2s 6ms/step - loss: 6.7785e-04\n",
      "Epoch 9/10\n",
      "313/313 [==============================] - 2s 6ms/step - loss: 7.1165e-04\n",
      "Epoch 10/10\n",
      "313/313 [==============================] - 2s 6ms/step - loss: 0.0011\n"
     ]
    }
   ],
   "source": [
    "history = model1.fit(x=df['x_scaled'], y=df['y_scaled'],verbose=1, epochs=10)"
   ]
  },
  {
   "cell_type": "markdown",
   "id": "7bf329af",
   "metadata": {},
   "source": [
    "### Importantly, we use scaling information and training to formulate neural networks in OMLT"
   ]
  },
  {
   "cell_type": "code",
   "execution_count": 8,
   "id": "6daffdfd",
   "metadata": {},
   "outputs": [
    {
     "name": "stdout",
     "output_type": "stream",
     "text": [
      "scaling data:  {'mean': {'x': -5.10702591327572e-18, 'y': 1.3336000266693333}, 'std': {'x': 1.1548737593388, 'y': 1.3784554666712947}}\n",
      "training bounds:  {'min': {'x': -2.0, 'y': -0.9086219566495785}, 'max': {'x': 2.0, 'y': 4.5440211108893696}}\n"
     ]
    }
   ],
   "source": [
    "#load scaling and bounds\n",
    "with open(\"keras_model_sin_wave/scale.json\", 'r') as f:\n",
    "    scales = json.load(f)\n",
    "    f.close()\n",
    "\n",
    "with open(\"keras_model_sin_wave/bounds.json\", 'r') as f:\n",
    "    bounds = json.load(f)\n",
    "    f.close()\n",
    "print(\"scaling data: \",scales)\n",
    "print(\"training bounds: \",bounds)"
   ]
  },
  {
   "cell_type": "markdown",
   "id": "d706efed",
   "metadata": {},
   "source": [
    "## Check the predictions"
   ]
  },
  {
   "cell_type": "code",
   "execution_count": 9,
   "id": "6eb9794a",
   "metadata": {},
   "outputs": [],
   "source": [
    "y_predict_scaled = model1.predict(x=df['x_scaled'])\n",
    "y_predict = y_predict_scaled*(scales['std'][\"y\"]) + scales['mean'][\"y\"]"
   ]
  },
  {
   "cell_type": "markdown",
   "id": "26f5233a",
   "metadata": {},
   "source": [
    "### We load the neural network from Keras and show a decent fit to our simple sin curve"
   ]
  },
  {
   "cell_type": "code",
   "execution_count": 10,
   "id": "97ab29f6",
   "metadata": {},
   "outputs": [
    {
     "data": {
      "image/png": "[encoded data removed]",
      "text/plain": [
       "<Figure size 576x576 with 1 Axes>"
      ]
     },
     "metadata": {
      "needs_background": "light"
     },
     "output_type": "display_data"
    }
   ],
   "source": [
    "fig,ax = plt.subplots(1,figsize = (8,8))\n",
    "ax.plot(x,y,linewidth = 3.0,label = \"sin(wx)+x^2\")\n",
    "ax.plot(x,y_predict,linewidth = 3.0,linestyle=\"dotted\",label = \"NN\")\n",
    "plt.xlabel(\"x\")\n",
    "plt.ylabel(\"y\")\n",
    "plt.legend();"
   ]
  },
  {
   "cell_type": "markdown",
   "id": "fd886053",
   "metadata": {},
   "source": [
    "## Formulating the OMLT Model"
   ]
  },
  {
   "cell_type": "code",
   "execution_count": 11,
   "id": "223b6f4b",
   "metadata": {},
   "outputs": [],
   "source": [
    "model = pyo.ConcreteModel()\n",
    "model.nn = OmltBlock()\n",
    "\n",
    "#the neural net contains one input and one output\n",
    "model.input = pyo.Var()\n",
    "model.output = pyo.Var()"
   ]
  },
  {
   "cell_type": "code",
   "execution_count": 12,
   "id": "7416a260",
   "metadata": {},
   "outputs": [
    {
     "name": "stdout",
     "output_type": "stream",
     "text": [
      "<omlt.scaling.OffsetScaling object at 0x7fa158485610>\n",
      "[-2.0, 2.0]\n"
     ]
    }
   ],
   "source": [
    "scale_x = [scales['mean']['x'],scales['std']['x']]\n",
    "scale_y = [scales['mean']['y'],scales['std']['y']]\n",
    "scaler = omlt.scaling.OffsetScaling(offset_inputs=[scale_x[0]],\n",
    "                    factor_inputs=[scale_x[1]],\n",
    "                    offset_outputs=[scale_y[0]],\n",
    "                    factor_outputs=[scale_y[1]])\n",
    "input_bounds=[(bounds['min']['x']),bounds['max']['x']]\n",
    "\n",
    "print(scaler)\n",
    "print(input_bounds)"
   ]
  },
  {
   "cell_type": "code",
   "execution_count": 24,
   "id": "7906131f",
   "metadata": {},
   "outputs": [
    {
     "name": "stdout",
     "output_type": "stream",
     "text": [
      "NetworkDefinition(num_layers=5)\n"
     ]
    }
   ],
   "source": [
    "net = omlt.io.load_keras_sequential(model1,scaler,input_bounds)\n",
    "print(net)"
   ]
  },
  {
   "cell_type": "code",
   "execution_count": 17,
   "id": "c745555d",
   "metadata": {},
   "outputs": [],
   "source": [
    "net.scaling_object = scaler"
   ]
  },
  {
   "cell_type": "code",
   "execution_count": 18,
   "id": "8cc8520b",
   "metadata": {},
   "outputs": [
    {
     "data": {
      "text/plain": [
       "[-2.0, 2.0]"
      ]
     },
     "execution_count": 18,
     "metadata": {},
     "output_type": "execute_result"
    }
   ],
   "source": [
    "net.input_bounds"
   ]
  },
  {
   "cell_type": "code",
   "execution_count": 31,
   "id": "352d435b",
   "metadata": {},
   "outputs": [
    {
     "data": {
      "text/plain": [
       "[<InputLayer(input_size=[1], output_size=[1]) at 0x7fa158413910>,\n",
       " <DenseLayer(input_size=[1], output_size=[100]) at 0x7fa158413cd0>,\n",
       " <DenseLayer(input_size=[100], output_size=[100]) at 0x7fa158413e90>,\n",
       " <DenseLayer(input_size=[100], output_size=[100]) at 0x7fa158413d90>,\n",
       " <DenseLayer(input_size=[100], output_size=[1]) at 0x7fa158413bd0>]"
      ]
     },
     "execution_count": 31,
     "metadata": {},
     "output_type": "execute_result"
    }
   ],
   "source": [
    "list(net.layers)"
   ]
  },
  {
   "cell_type": "code",
   "execution_count": 30,
   "id": "86cd5b1e",
   "metadata": {},
   "outputs": [
    {
     "data": {
      "text/plain": [
       "[<DenseLayer(input_size=[100], output_size=[1]) at 0x7fa158413bd0>,\n",
       " <DenseLayer(input_size=[100], output_size=[100]) at 0x7fa158413d90>,\n",
       " <DenseLayer(input_size=[100], output_size=[100]) at 0x7fa158413e90>,\n",
       " <DenseLayer(input_size=[1], output_size=[100]) at 0x7fa158413cd0>,\n",
       " <InputLayer(input_size=[1], output_size=[1]) at 0x7fa158413910>]"
      ]
     },
     "execution_count": 30,
     "metadata": {},
     "output_type": "execute_result"
    }
   ],
   "source": []
  },
  {
   "cell_type": "markdown",
   "id": "b9a9b621",
   "metadata": {},
   "source": [
    "## Multiple neural network formulations are possible. These include: \n",
    "FullSpaceContinuousFormulation, ReducedSpaceContinuousFormulation, ReLUBigMFormulation, ReLUComplementarityFormulation"
   ]
  },
  {
   "cell_type": "markdown",
   "id": "39187066",
   "metadata": {},
   "source": [
    "## FullSpaceContinuousFormulation \n",
    "### TODO: write out what this formulation is"
   ]
  },
  {
   "cell_type": "code",
   "execution_count": 25,
   "id": "21e66ee0",
   "metadata": {},
   "outputs": [
    {
     "name": "stdout",
     "output_type": "stream",
     "text": [
      "WARNING: Implicitly replacing the Component attribute inputs_set (type=<class\n",
      "    'pyomo.core.base.set.OrderedScalarSet'>) on block nn with a new Component\n",
      "    (type=<class 'pyomo.core.base.set.AbstractOrderedScalarSet'>). This is\n",
      "    usually indicative of a modelling error. To avoid this warning, use\n",
      "    block.del_component() and block.add_component().\n",
      "WARNING: Implicitly replacing the Component attribute inputs (type=<class\n",
      "    'pyomo.core.base.var.IndexedVar'>) on block nn with a new Component\n",
      "    (type=<class 'pyomo.core.base.var.IndexedVar'>). This is usually\n",
      "    indicative of a modelling error. To avoid this warning, use\n",
      "    block.del_component() and block.add_component().\n",
      "WARNING: Implicitly replacing the Component attribute outputs_set (type=<class\n",
      "    'pyomo.core.base.set.OrderedScalarSet'>) on block nn with a new Component\n",
      "    (type=<class 'pyomo.core.base.set.AbstractOrderedScalarSet'>). This is\n",
      "    usually indicative of a modelling error. To avoid this warning, use\n",
      "    block.del_component() and block.add_component().\n",
      "WARNING: Implicitly replacing the Component attribute outputs (type=<class\n",
      "    'pyomo.core.base.var.IndexedVar'>) on block nn with a new Component\n",
      "    (type=<class 'pyomo.core.base.var.IndexedVar'>). This is usually\n",
      "    indicative of a modelling error. To avoid this warning, use\n",
      "    block.del_component() and block.add_component().\n"
     ]
    },
    {
     "ename": "TypeError",
     "evalue": "'float' object is not subscriptable",
     "output_type": "error",
     "traceback": [
      "\u001b[0;31m---------------------------------------------------------------------------\u001b[0m",
      "\u001b[0;31mTypeError\u001b[0m                                 Traceback (most recent call last)",
      "\u001b[0;32m<ipython-input-25-094b1b8ff1ca>\u001b[0m in \u001b[0;36m<module>\u001b[0;34m\u001b[0m\n\u001b[1;32m      7\u001b[0m \u001b[0;31m#build the formulation on the OMLT block\u001b[0m\u001b[0;34m\u001b[0m\u001b[0;34m\u001b[0m\u001b[0;34m\u001b[0m\u001b[0m\n\u001b[1;32m      8\u001b[0m \u001b[0;34m\u001b[0m\u001b[0m\n\u001b[0;32m----> 9\u001b[0;31m \u001b[0mmodel\u001b[0m\u001b[0;34m.\u001b[0m\u001b[0mnn\u001b[0m\u001b[0;34m.\u001b[0m\u001b[0mbuild_formulation\u001b[0m\u001b[0;34m(\u001b[0m\u001b[0mformulation\u001b[0m\u001b[0;34m)\u001b[0m\u001b[0;34m\u001b[0m\u001b[0;34m\u001b[0m\u001b[0m\n\u001b[0m\u001b[1;32m     10\u001b[0m \u001b[0;34m\u001b[0m\u001b[0m\n\u001b[1;32m     11\u001b[0m \u001b[0;31m#query inputs and outputs, as well as scaled inputs and outputs\u001b[0m\u001b[0;34m\u001b[0m\u001b[0;34m\u001b[0m\u001b[0;34m\u001b[0m\u001b[0m\n",
      "\u001b[0;32m/media/git/OptML/src/omlt/block.py\u001b[0m in \u001b[0;36mbuild_formulation\u001b[0;34m(self, formulation, input_vars, output_vars)\u001b[0m\n\u001b[1;32m    282\u001b[0m             \u001b[0mscaling_object\u001b[0m\u001b[0;34m=\u001b[0m\u001b[0mformulation\u001b[0m\u001b[0;34m.\u001b[0m\u001b[0mscaling_object\u001b[0m\u001b[0;34m,\u001b[0m\u001b[0;34m\u001b[0m\u001b[0;34m\u001b[0m\u001b[0m\n\u001b[1;32m    283\u001b[0m             \u001b[0minput_bounds\u001b[0m\u001b[0;34m=\u001b[0m\u001b[0mformulation\u001b[0m\u001b[0;34m.\u001b[0m\u001b[0minput_bounds\u001b[0m\u001b[0;34m,\u001b[0m\u001b[0;34m\u001b[0m\u001b[0;34m\u001b[0m\u001b[0m\n\u001b[0;32m--> 284\u001b[0;31m             \u001b[0muse_scaling_expressions\u001b[0m\u001b[0;34m=\u001b[0m\u001b[0;32mFalse\u001b[0m\u001b[0;34m,\u001b[0m\u001b[0;34m\u001b[0m\u001b[0;34m\u001b[0m\u001b[0m\n\u001b[0m\u001b[1;32m    285\u001b[0m         )\n\u001b[1;32m    286\u001b[0m \u001b[0;34m\u001b[0m\u001b[0m\n",
      "\u001b[0;32m/media/git/OptML/src/omlt/block.py\u001b[0m in \u001b[0;36m_setup_scaled_inputs_outputs\u001b[0;34m(self, scaling_object, input_bounds, use_scaling_expressions)\u001b[0m\n\u001b[1;32m    153\u001b[0m             \u001b[0mself\u001b[0m\u001b[0;34m.\u001b[0m\u001b[0m__scaled_inputs_list\u001b[0m \u001b[0;34m=\u001b[0m \u001b[0mweakref\u001b[0m\u001b[0;34m.\u001b[0m\u001b[0mref\u001b[0m\u001b[0;34m(\u001b[0m\u001b[0mself\u001b[0m\u001b[0;34m.\u001b[0m\u001b[0minputs_list\u001b[0m\u001b[0;34m)\u001b[0m\u001b[0;34m\u001b[0m\u001b[0;34m\u001b[0m\u001b[0m\n\u001b[1;32m    154\u001b[0m             \u001b[0mself\u001b[0m\u001b[0;34m.\u001b[0m\u001b[0m__scaled_outputs_list\u001b[0m \u001b[0;34m=\u001b[0m \u001b[0mweakref\u001b[0m\u001b[0;34m.\u001b[0m\u001b[0mref\u001b[0m\u001b[0;34m(\u001b[0m\u001b[0mself\u001b[0m\u001b[0;34m.\u001b[0m\u001b[0moutputs_list\u001b[0m\u001b[0;34m)\u001b[0m\u001b[0;34m\u001b[0m\u001b[0;34m\u001b[0m\u001b[0m\n\u001b[0;32m--> 155\u001b[0;31m             \u001b[0mself\u001b[0m\u001b[0;34m.\u001b[0m\u001b[0m_setup_input_bounds\u001b[0m\u001b[0;34m(\u001b[0m\u001b[0mself\u001b[0m\u001b[0;34m.\u001b[0m\u001b[0minputs_list\u001b[0m\u001b[0;34m,\u001b[0m \u001b[0minput_bounds\u001b[0m\u001b[0;34m)\u001b[0m\u001b[0;34m\u001b[0m\u001b[0;34m\u001b[0m\u001b[0m\n\u001b[0m\u001b[1;32m    156\u001b[0m \u001b[0;34m\u001b[0m\u001b[0m\n\u001b[1;32m    157\u001b[0m         \u001b[0;32melif\u001b[0m \u001b[0mscaling_object\u001b[0m \u001b[0;32mand\u001b[0m \u001b[0muse_scaling_expressions\u001b[0m\u001b[0;34m:\u001b[0m\u001b[0;34m\u001b[0m\u001b[0;34m\u001b[0m\u001b[0m\n",
      "\u001b[0;32m/media/git/OptML/src/omlt/block.py\u001b[0m in \u001b[0;36m_setup_input_bounds\u001b[0;34m(self, inputs_list, input_bounds)\u001b[0m\n\u001b[1;32m    126\u001b[0m \u001b[0;34m\u001b[0m\u001b[0m\n\u001b[1;32m    127\u001b[0m                 \u001b[0;32mif\u001b[0m \u001b[0mvar\u001b[0m\u001b[0;34m.\u001b[0m\u001b[0mlb\u001b[0m \u001b[0;34m==\u001b[0m \u001b[0;32mNone\u001b[0m\u001b[0;34m:\u001b[0m  \u001b[0;31m# set lower bound to input_bounds value\u001b[0m\u001b[0;34m\u001b[0m\u001b[0;34m\u001b[0m\u001b[0m\n\u001b[0;32m--> 128\u001b[0;31m                     \u001b[0mvar\u001b[0m\u001b[0;34m.\u001b[0m\u001b[0msetlb\u001b[0m\u001b[0;34m(\u001b[0m\u001b[0minput_bounds\u001b[0m\u001b[0;34m[\u001b[0m\u001b[0mi\u001b[0m\u001b[0;34m]\u001b[0m\u001b[0;34m[\u001b[0m\u001b[0;36m0\u001b[0m\u001b[0;34m]\u001b[0m\u001b[0;34m)\u001b[0m\u001b[0;34m\u001b[0m\u001b[0;34m\u001b[0m\u001b[0m\n\u001b[0m\u001b[1;32m    129\u001b[0m                 \u001b[0;32melse\u001b[0m\u001b[0;34m:\u001b[0m\u001b[0;34m\u001b[0m\u001b[0;34m\u001b[0m\u001b[0m\n\u001b[1;32m    130\u001b[0m                     \u001b[0;31m# throw warning if var.lb is more loose than input_bounds value\u001b[0m\u001b[0;34m\u001b[0m\u001b[0;34m\u001b[0m\u001b[0;34m\u001b[0m\u001b[0m\n",
      "\u001b[0;31mTypeError\u001b[0m: 'float' object is not subscriptable"
     ]
    }
   ],
   "source": [
    "#hides the intermediate variables from the optimizer\n",
    "formulation = NeuralNetworkFormulation(net,activation_constraints={\n",
    "            \"relu\": ComplementarityReLUActivation()})\n",
    "\n",
    "#formulation = ReducedSpaceContinuousFormulation(net)\n",
    "\n",
    "#build the formulation on the OMLT block\n",
    "\n",
    "model.nn.build_formulation(formulation)\n",
    "\n",
    "#query inputs and outputs, as well as scaled inputs and outputs\n",
    "#model.nn.inputs_list\n",
    "#model.nn.outputs_list\n",
    "#model.nn.scaled_inputs_list\n",
    "#model.nn.scaled_outputs_list"
   ]
  },
  {
   "cell_type": "markdown",
   "id": "ff4206bc",
   "metadata": {},
   "source": [
    "### Solving the Pyomo Model\n",
    "Now we solve an inverse problem over the neural network to find an input that produces the desired output <br>\n",
    "$\\min (\\hat{y} - p)^2$ <br>\n",
    "$s.t. \\hat{y} = N(x)$"
   ]
  },
  {
   "cell_type": "code",
   "execution_count": null,
   "id": "bd0f1338",
   "metadata": {},
   "outputs": [],
   "source": [
    "model.obj = pyo.Objective(expr=(model.output - 0.5)**2)\n",
    "status = pyo.SolverFactory('ipopt').solve(model, tee=False)\n",
    "print(pyo.value(model.input))\n",
    "print(pyo.value(model.output))"
   ]
  },
  {
   "cell_type": "code",
   "execution_count": null,
   "id": "bf62c35e",
   "metadata": {},
   "outputs": [],
   "source": [
    "formulation = FullSpaceContinuousFormulation(net)"
   ]
  },
  {
   "cell_type": "code",
   "execution_count": null,
   "id": "2d90b8fc",
   "metadata": {},
   "outputs": [],
   "source": [
    "formulation = ReLUBigMFormulation(net)"
   ]
  },
  {
   "cell_type": "code",
   "execution_count": 65,
   "id": "d725107c",
   "metadata": {},
   "outputs": [
    {
     "ename": "NameError",
     "evalue": "name 'ReLUComplementarityFormulation' is not defined",
     "output_type": "error",
     "traceback": [
      "\u001b[0;31m---------------------------------------------------------------------------\u001b[0m",
      "\u001b[0;31mNameError\u001b[0m                                 Traceback (most recent call last)",
      "\u001b[0;32m<ipython-input-65-a4573edd6847>\u001b[0m in \u001b[0;36m<module>\u001b[0;34m\u001b[0m\n\u001b[0;32m----> 1\u001b[0;31m \u001b[0mformulation\u001b[0m \u001b[0;34m=\u001b[0m \u001b[0mReLUComplementarityFormulation\u001b[0m\u001b[0;34m(\u001b[0m\u001b[0mnet\u001b[0m\u001b[0;34m)\u001b[0m\u001b[0;34m\u001b[0m\u001b[0;34m\u001b[0m\u001b[0m\n\u001b[0m",
      "\u001b[0;31mNameError\u001b[0m: name 'ReLUComplementarityFormulation' is not defined"
     ]
    }
   ],
   "source": [
    "formulation = ReLUComplementarityFormulation(net)"
   ]
  },
  {
   "cell_type": "markdown",
   "id": "8effa313",
   "metadata": {},
   "source": [
    "## FullSpaceContinuousFormulation \n",
    "### TODO: write out what this formulation is\n",
    "\n"
   ]
  },
  {
   "cell_type": "code",
   "execution_count": null,
   "id": "a739ac9d",
   "metadata": {},
   "outputs": [],
   "source": []
  }
 ],
 "metadata": {
  "kernelspec": {
   "display_name": "tensorflow",
   "language": "python",
   "name": "tensorflow"
  },
  "language_info": {
   "codemirror_mode": {
    "name": "ipython",
    "version": 3
   },
   "file_extension": ".py",
   "mimetype": "text/x-python",
   "name": "python",
   "nbconvert_exporter": "python",
   "pygments_lexer": "ipython3",
   "version": "3.7.9"
  }
 },
 "nbformat": 4,
 "nbformat_minor": 5
}
