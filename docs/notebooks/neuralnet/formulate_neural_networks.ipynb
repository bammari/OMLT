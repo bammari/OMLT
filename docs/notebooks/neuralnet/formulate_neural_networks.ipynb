{
 "cells": [
  {
   "cell_type": "markdown",
   "id": "5e5e738f",
   "metadata": {},
   "source": [
    "# Using Neural Network Formulations in OMLT\n",
    "\n",
    "In this example we show how different neural networks can be formulated using Pyomo and OMLT. This notebook assumes you have a working tensorflow environment in addition to other necessary packages denoted below."
   ]
  },
  {
   "cell_type": "markdown",
   "id": "4115df0c",
   "metadata": {},
   "source": [
    "## Library Setup 1\n",
    "Start by importing the libraries used in this project:\n",
    "\n",
    "Base libraries used this project: <br>\n",
    "`numpy`, `pandas`: data manipulation <br>\n",
    "`json`: needed to write neural network parameters (e.g. scaling information) <br>\n",
    "`matplotlib`: used for plotting the results in this example\n"
   ]
  },
  {
   "cell_type": "code",
   "execution_count": 1,
   "id": "37b936b8",
   "metadata": {},
   "outputs": [],
   "source": [
    "import numpy as np\n",
    "import pandas as pd\n",
    "import json\n",
    "import matplotlib.pyplot as plt\n",
    "import matplotlib\n",
    "matplotlib.rc('font', size=24)\n",
    "plt.rc('axes', titlesize=24)"
   ]
  },
  {
   "cell_type": "markdown",
   "id": "b941b0bd",
   "metadata": {},
   "source": [
    "## Library Setup 2\n",
    "OMLT extends Pyomo blocks and provides capabilities to use Keras neural networks. In this example we use Pyomo to setup an optimization problem and we use Keras (through tensorflow) to train a simple neural network.\n",
    "- `pyomo`: the algebraic modeling language for Python, it is used to define the optimization model passed to the solver\n",
    "- `tensorflow`: the machine learning language we use to train our neural network"
   ]
  },
  {
   "cell_type": "code",
   "execution_count": 3,
   "id": "5fe99358",
   "metadata": {},
   "outputs": [],
   "source": [
    "import pyomo.environ as pyo\n",
    "from tensorflow.keras.models import Sequential, Model\n",
    "from tensorflow.keras.layers import Dense, Input\n",
    "from tensorflow.keras.optimizers import Adam"
   ]
  },
  {
   "cell_type": "markdown",
   "id": "016bee7b",
   "metadata": {},
   "source": [
    "## Library Setup 3\n",
    "We import the following classes from OMLT:\n",
    " - `OmltBlock`: A Pyomo custom block that can represent machine learning models (such as neural networks)"
   ]
  },
  {
   "cell_type": "code",
   "execution_count": 29,
   "id": "b3fd7ee5",
   "metadata": {},
   "outputs": [],
   "source": [
    "from omlt import OmltBlock\n",
    "from omlt.neuralnet import NetworkDefinition, NeuralNetworkFormulation, ComplementarityReLUActivation\n",
    "from omlt.io import keras_reader\n",
    "import omlt"
   ]
  },
  {
   "cell_type": "markdown",
   "id": "6a1977f3",
   "metadata": {},
   "source": [
    "## Import the Data"
   ]
  },
  {
   "cell_type": "markdown",
   "id": "ad6a176a",
   "metadata": {},
   "source": [
    "For demonstration purposes, we trained a neural network that learned a simple sin wave function given by:<br>\n",
    "$$\n",
    "y=sin(\\omega x) + x^2\n",
    "$$\n",
    "on the interval $x \\in [-2,2]$"
   ]
  },
  {
   "cell_type": "code",
   "execution_count": 11,
   "id": "15bdf8f1",
   "metadata": {},
   "outputs": [
    {
     "data": {
      "text/html": [
       "<div>\n",
       "<style scoped>\n",
       "    .dataframe tbody tr th:only-of-type {\n",
       "        vertical-align: middle;\n",
       "    }\n",
       "\n",
       "    .dataframe tbody tr th {\n",
       "        vertical-align: top;\n",
       "    }\n",
       "\n",
       "    .dataframe thead th {\n",
       "        text-align: right;\n",
       "    }\n",
       "</style>\n",
       "<table border=\"1\" class=\"dataframe\">\n",
       "  <thead>\n",
       "    <tr style=\"text-align: right;\">\n",
       "      <th></th>\n",
       "      <th>x</th>\n",
       "      <th>y</th>\n",
       "    </tr>\n",
       "  </thead>\n",
       "  <tbody>\n",
       "    <tr>\n",
       "      <th>0</th>\n",
       "      <td>-2.0000</td>\n",
       "      <td>4.544021</td>\n",
       "    </tr>\n",
       "    <tr>\n",
       "      <th>1</th>\n",
       "      <td>-1.9996</td>\n",
       "      <td>4.540742</td>\n",
       "    </tr>\n",
       "    <tr>\n",
       "      <th>2</th>\n",
       "      <td>-1.9992</td>\n",
       "      <td>4.537460</td>\n",
       "    </tr>\n",
       "    <tr>\n",
       "      <th>3</th>\n",
       "      <td>-1.9988</td>\n",
       "      <td>4.534177</td>\n",
       "    </tr>\n",
       "    <tr>\n",
       "      <th>4</th>\n",
       "      <td>-1.9984</td>\n",
       "      <td>4.530892</td>\n",
       "    </tr>\n",
       "    <tr>\n",
       "      <th>...</th>\n",
       "      <td>...</td>\n",
       "      <td>...</td>\n",
       "    </tr>\n",
       "    <tr>\n",
       "      <th>9995</th>\n",
       "      <td>1.9984</td>\n",
       "      <td>3.456311</td>\n",
       "    </tr>\n",
       "    <tr>\n",
       "      <th>9996</th>\n",
       "      <td>1.9988</td>\n",
       "      <td>3.456225</td>\n",
       "    </tr>\n",
       "    <tr>\n",
       "      <th>9997</th>\n",
       "      <td>1.9992</td>\n",
       "      <td>3.456140</td>\n",
       "    </tr>\n",
       "    <tr>\n",
       "      <th>9998</th>\n",
       "      <td>1.9996</td>\n",
       "      <td>3.456058</td>\n",
       "    </tr>\n",
       "    <tr>\n",
       "      <th>9999</th>\n",
       "      <td>2.0000</td>\n",
       "      <td>3.455979</td>\n",
       "    </tr>\n",
       "  </tbody>\n",
       "</table>\n",
       "<p>10000 rows × 2 columns</p>\n",
       "</div>"
      ],
      "text/plain": [
       "           x         y\n",
       "0    -2.0000  4.544021\n",
       "1    -1.9996  4.540742\n",
       "2    -1.9992  4.537460\n",
       "3    -1.9988  4.534177\n",
       "4    -1.9984  4.530892\n",
       "...      ...       ...\n",
       "9995  1.9984  3.456311\n",
       "9996  1.9988  3.456225\n",
       "9997  1.9992  3.456140\n",
       "9998  1.9996  3.456058\n",
       "9999  2.0000  3.455979\n",
       "\n",
       "[10000 rows x 2 columns]"
      ]
     },
     "execution_count": 11,
     "metadata": {},
     "output_type": "execute_result"
    }
   ],
   "source": [
    "df = pd.read_csv(\"../data/sin_quadratic.csv\",index_col=[0])\n",
    "df"
   ]
  },
  {
   "cell_type": "markdown",
   "id": "726c3b4e",
   "metadata": {},
   "source": [
    "The training data captures the function of interest and is plotted below (on the left). We also scale the training data to a mean of zero with unit standard deviation. The scaled inputs and outputs are added to the dataframe and plotted next to the true values (on the right)."
   ]
  },
  {
   "cell_type": "code",
   "execution_count": 15,
   "id": "829e0e61",
   "metadata": {},
   "outputs": [
    {
     "data": {
      "image/png": "[encoded data removed]",
      "text/plain": [
       "<Figure size 864x576 with 2 Axes>"
      ]
     },
     "metadata": {
      "needs_background": "light"
     },
     "output_type": "display_data"
    }
   ],
   "source": [
    "x = df[\"x\"]\n",
    "y = df[\"y\"]\n",
    "\n",
    "mean_data = df.mean(axis=0)\n",
    "std_data = df.std(axis=0)\n",
    "df[\"x_scaled\"] = (df['x'] - mean_data['x']) / std_data['x']\n",
    "df[\"y_scaled\"] = (df['y'] - mean_data['y']) / std_data['y']\n",
    "\n",
    "f, (ax1, ax2) = plt.subplots(1, 2,figsize = (12,8))\n",
    "\n",
    "ax1.plot(x, y)\n",
    "ax1.set_xlabel(\"x\")\n",
    "ax1.set_ylabel(\"sin(wx) + x^2\");\n",
    "\n",
    "\n",
    "ax2.plot(df[\"x_scaled\"], df[\"y_scaled\"])\n",
    "ax2.set_xlabel(\"x_scaled\")\n",
    "ax2.set_ylabel(\"y_scaled\");\n",
    "\n",
    "plt.tight_layout()"
   ]
  },
  {
   "cell_type": "markdown",
   "id": "61ee8536",
   "metadata": {},
   "source": [
    "## Train the Neural Network\n",
    "After producing our simple dataset, we use keras and tensorflow to train two neural networks to represent the quadratic sin curve. "
   ]
  },
  {
   "cell_type": "code",
   "execution_count": 18,
   "id": "7a33ecdf",
   "metadata": {},
   "outputs": [],
   "source": [
    "#relu neural network\n",
    "model1 = Sequential(name='sin_wave_relu')\n",
    "model1.add(Input(1))\n",
    "model1.add(Dense(100, activation='relu'))\n",
    "model1.add(Dense(100, activation='relu'))\n",
    "model1.add(Dense(100, activation='relu'))\n",
    "model1.add(Dense(1))\n",
    "model1.compile(optimizer=Adam(), loss='mse')\n",
    "\n",
    "#sigmoid neural network\n",
    "model2 = Sequential(name='sin_wave_sigmoid')\n",
    "model2.add(Input(1))\n",
    "model2.add(Dense(100, activation='sigmoid'))\n",
    "model2.add(Dense(100, activation='sigmoid'))\n",
    "model2.add(Dense(100, activation='sigmoid'))\n",
    "model2.add(Dense(1))\n",
    "model2.compile(optimizer=Adam(), loss='mse')"
   ]
  },
  {
   "cell_type": "code",
   "execution_count": 19,
   "id": "6817b013",
   "metadata": {},
   "outputs": [
    {
     "name": "stdout",
     "output_type": "stream",
     "text": [
      "Epoch 1/10\n",
      "313/313 [==============================] - 0s 1ms/step - loss: 0.2050\n",
      "Epoch 2/10\n",
      "313/313 [==============================] - 1s 2ms/step - loss: 0.0770\n",
      "Epoch 3/10\n",
      "313/313 [==============================] - 1s 2ms/step - loss: 0.0700\n",
      "Epoch 4/10\n",
      "313/313 [==============================] - 1s 2ms/step - loss: 0.0641\n",
      "Epoch 5/10\n",
      "313/313 [==============================] - 1s 2ms/step - loss: 0.0443\n",
      "Epoch 6/10\n",
      "313/313 [==============================] - 1s 2ms/step - loss: 0.0064\n",
      "Epoch 7/10\n",
      "313/313 [==============================] - 1s 2ms/step - loss: 5.4788e-04\n",
      "Epoch 8/10\n",
      "313/313 [==============================] - 1s 2ms/step - loss: 4.6068e-04\n",
      "Epoch 9/10\n",
      "313/313 [==============================] - 1s 2ms/step - loss: 1.0017e-04\n",
      "Epoch 10/10\n",
      "313/313 [==============================] - 1s 2ms/step - loss: 6.4547e-04: 0s - lo\n",
      "Epoch 1/20\n",
      "313/313 [==============================] - 1s 2ms/step - loss: 1.0076\n",
      "Epoch 2/20\n",
      "313/313 [==============================] - 1s 2ms/step - loss: 0.9612\n",
      "Epoch 3/20\n",
      "313/313 [==============================] - 1s 2ms/step - loss: 0.3696\n",
      "Epoch 4/20\n",
      "313/313 [==============================] - 1s 2ms/step - loss: 0.2329\n",
      "Epoch 5/20\n",
      "313/313 [==============================] - 1s 2ms/step - loss: 0.2189\n",
      "Epoch 6/20\n",
      "313/313 [==============================] - 1s 2ms/step - loss: 0.2053\n",
      "Epoch 7/20\n",
      "313/313 [==============================] - 1s 2ms/step - loss: 0.1837\n",
      "Epoch 8/20\n",
      "313/313 [==============================] - 1s 3ms/step - loss: 0.1571\n",
      "Epoch 9/20\n",
      "313/313 [==============================] - 1s 2ms/step - loss: 0.1111\n",
      "Epoch 10/20\n",
      "313/313 [==============================] - 1s 2ms/step - loss: 0.0568\n",
      "Epoch 11/20\n",
      "313/313 [==============================] - 1s 2ms/step - loss: 0.0338\n",
      "Epoch 12/20\n",
      "313/313 [==============================] - 1s 2ms/step - loss: 0.0212\n",
      "Epoch 13/20\n",
      "313/313 [==============================] - 1s 2ms/step - loss: 0.0120\n",
      "Epoch 14/20\n",
      "313/313 [==============================] - 1s 2ms/step - loss: 0.0063\n",
      "Epoch 15/20\n",
      "313/313 [==============================] - 1s 2ms/step - loss: 0.0038\n",
      "Epoch 16/20\n",
      "313/313 [==============================] - 1s 2ms/step - loss: 0.0029\n",
      "Epoch 17/20\n",
      "313/313 [==============================] - 1s 2ms/step - loss: 0.0024\n",
      "Epoch 18/20\n",
      "313/313 [==============================] - 1s 3ms/step - loss: 0.0019\n",
      "Epoch 19/20\n",
      "313/313 [==============================] - 1s 2ms/step - loss: 0.0015\n",
      "Epoch 20/20\n",
      "313/313 [==============================] - 1s 2ms/step - loss: 0.0013\n"
     ]
    }
   ],
   "source": [
    "history1 = model1.fit(x=df['x_scaled'], y=df['y_scaled'],verbose=1, epochs=10)\n",
    "history2 = model2.fit(x=df['x_scaled'], y=df['y_scaled'],verbose=1, epochs=20)"
   ]
  },
  {
   "cell_type": "markdown",
   "id": "d706efed",
   "metadata": {},
   "source": [
    "## Check the predictions"
   ]
  },
  {
   "cell_type": "code",
   "execution_count": 22,
   "id": "6eb9794a",
   "metadata": {},
   "outputs": [],
   "source": [
    "y_predict_scaled_relu = model1.predict(x=df['x_scaled'])\n",
    "y_predict_relu = y_predict_scaled_relu*(std_data['y']) + mean_data['y']\n",
    "\n",
    "y_predict_scaled_sigmoid = model2.predict(x=df['x_scaled'])\n",
    "y_predict_sigmoid = y_predict_scaled_sigmoid*(std_data['y']) + mean_data['y']"
   ]
  },
  {
   "cell_type": "markdown",
   "id": "26f5233a",
   "metadata": {},
   "source": [
    "### We load the neural network from Keras and show a decent fit to our simple sin curve"
   ]
  },
  {
   "cell_type": "code",
   "execution_count": 24,
   "id": "97ab29f6",
   "metadata": {},
   "outputs": [
    {
     "data": {
      "image/png": "[encoded data removed]",
      "text/plain": [
       "<Figure size 576x576 with 1 Axes>"
      ]
     },
     "metadata": {
      "needs_background": "light"
     },
     "output_type": "display_data"
    }
   ],
   "source": [
    "fig,ax = plt.subplots(1,figsize = (8,8))\n",
    "ax.plot(x,y,linewidth = 3.0,label = \"sin(wx)+x^2\")\n",
    "ax.plot(x,y_predict_relu,linewidth = 3.0,linestyle=\"dotted\",label = \"relu\")\n",
    "ax.plot(x,y_predict_sigmoid,linewidth = 3.0,linestyle=\"dotted\",label = \"sigmoid\")\n",
    "plt.xlabel(\"x\")\n",
    "plt.ylabel(\"y\")\n",
    "plt.legend();"
   ]
  },
  {
   "cell_type": "markdown",
   "id": "fd886053",
   "metadata": {},
   "source": [
    "## Formulating the OMLT Model\n",
    "We now show OMLT can be used to optimize over neural networks. We show how to formulate the keras model into `OmltBlock`s and how to formulate different optimization representations."
   ]
  },
  {
   "cell_type": "code",
   "execution_count": 30,
   "id": "223b6f4b",
   "metadata": {},
   "outputs": [],
   "source": [
    "model = pyo.ConcreteModel()\n",
    "model.nn = OmltBlock()\n",
    "model.x = pyo.Var()\n",
    "model.y = pyo.Var()"
   ]
  },
  {
   "cell_type": "code",
   "execution_count": 32,
   "id": "7416a260",
   "metadata": {},
   "outputs": [
    {
     "name": "stdout",
     "output_type": "stream",
     "text": [
      "<omlt.scaling.OffsetScaling object at 0x7f5960495890>\n",
      "[-2.0, 2.0]\n"
     ]
    }
   ],
   "source": [
    "scaler = omlt.scaling.OffsetScaling(offset_inputs=[mean_data['x']],\n",
    "                    factor_inputs=[std_data['x']],\n",
    "                    offset_outputs=[mean_data['y']],\n",
    "                    factor_outputs=[std_data['y']])\n",
    "\n",
    "input_bounds=[(min(df['x'])),max(df['x'])]\n",
    "\n",
    "print(scaler)\n",
    "print(input_bounds)"
   ]
  },
  {
   "cell_type": "code",
   "execution_count": 33,
   "id": "7906131f",
   "metadata": {},
   "outputs": [
    {
     "name": "stdout",
     "output_type": "stream",
     "text": [
      "n_inputs: 1\n",
      "NetworkDefinition(num_layers=5)\n"
     ]
    }
   ],
   "source": [
    "net = keras_reader.load_keras_sequential(model1,scaler,input_bounds)\n",
    "print(net)"
   ]
  },
  {
   "cell_type": "code",
   "execution_count": 35,
   "id": "c745555d",
   "metadata": {},
   "outputs": [
    {
     "name": "stdout",
     "output_type": "stream",
     "text": [
      "<omlt.scaling.OffsetScaling object at 0x7f5960495890>\n",
      "[-2.0, 2.0]\n"
     ]
    }
   ],
   "source": [
    "net.scaler = scaler\n",
    "print(net.scaler)\n",
    "print(net.input_bounds)"
   ]
  },
  {
   "cell_type": "code",
   "execution_count": 36,
   "id": "352d435b",
   "metadata": {},
   "outputs": [
    {
     "data": {
      "text/plain": [
       "[<InputLayer(input_size=[1], output_size=[1]) at 0x7f596260a450>,\n",
       " <DenseLayer(input_size=[1], output_size=[100]) at 0x7f5952b684d0>,\n",
       " <DenseLayer(input_size=[100], output_size=[100]) at 0x7f59580cfe90>,\n",
       " <DenseLayer(input_size=[100], output_size=[100]) at 0x7f59580cfcd0>,\n",
       " <DenseLayer(input_size=[100], output_size=[1]) at 0x7f59580cf350>]"
      ]
     },
     "execution_count": 36,
     "metadata": {},
     "output_type": "execute_result"
    }
   ],
   "source": [
    "list(net.layers)"
   ]
  },
  {
   "cell_type": "markdown",
   "id": "b9a9b621",
   "metadata": {},
   "source": [
    "Multiple neural network formulations are possible. These include: <br>\n",
    "`FullSpaceContinuousFormulation`<br> \n",
    "`ReducedSpaceContinuousFormulation`<br> \n",
    "`ReLUBigMFormulation` <br> \n",
    "`ReLUComplementarityFormulation`"
   ]
  },
  {
   "cell_type": "markdown",
   "id": "39187066",
   "metadata": {},
   "source": [
    "## FullSpaceContinuousFormulation \n",
    "### TODO: write out what this formulation is"
   ]
  },
  {
   "cell_type": "code",
   "execution_count": 37,
   "id": "21e66ee0",
   "metadata": {},
   "outputs": [
    {
     "ename": "TypeError",
     "evalue": "'float' object is not subscriptable",
     "output_type": "error",
     "traceback": [
      "\u001b[0;31m---------------------------------------------------------------------------\u001b[0m",
      "\u001b[0;31mTypeError\u001b[0m                                 Traceback (most recent call last)",
      "\u001b[0;32m<ipython-input-37-094b1b8ff1ca>\u001b[0m in \u001b[0;36m<module>\u001b[0;34m\u001b[0m\n\u001b[1;32m      7\u001b[0m \u001b[0;31m#build the formulation on the OMLT block\u001b[0m\u001b[0;34m\u001b[0m\u001b[0;34m\u001b[0m\u001b[0;34m\u001b[0m\u001b[0m\n\u001b[1;32m      8\u001b[0m \u001b[0;34m\u001b[0m\u001b[0m\n\u001b[0;32m----> 9\u001b[0;31m \u001b[0mmodel\u001b[0m\u001b[0;34m.\u001b[0m\u001b[0mnn\u001b[0m\u001b[0;34m.\u001b[0m\u001b[0mbuild_formulation\u001b[0m\u001b[0;34m(\u001b[0m\u001b[0mformulation\u001b[0m\u001b[0;34m)\u001b[0m\u001b[0;34m\u001b[0m\u001b[0;34m\u001b[0m\u001b[0m\n\u001b[0m\u001b[1;32m     10\u001b[0m \u001b[0;34m\u001b[0m\u001b[0m\n\u001b[1;32m     11\u001b[0m \u001b[0;31m#query inputs and outputs, as well as scaled inputs and outputs\u001b[0m\u001b[0;34m\u001b[0m\u001b[0;34m\u001b[0m\u001b[0;34m\u001b[0m\u001b[0m\n",
      "\u001b[0;32m/media/git/OptML/src/omlt/block.py\u001b[0m in \u001b[0;36mbuild_formulation\u001b[0;34m(self, formulation, input_vars, output_vars)\u001b[0m\n\u001b[1;32m    282\u001b[0m             \u001b[0mscaling_object\u001b[0m\u001b[0;34m=\u001b[0m\u001b[0mformulation\u001b[0m\u001b[0;34m.\u001b[0m\u001b[0mscaling_object\u001b[0m\u001b[0;34m,\u001b[0m\u001b[0;34m\u001b[0m\u001b[0;34m\u001b[0m\u001b[0m\n\u001b[1;32m    283\u001b[0m             \u001b[0minput_bounds\u001b[0m\u001b[0;34m=\u001b[0m\u001b[0mformulation\u001b[0m\u001b[0;34m.\u001b[0m\u001b[0minput_bounds\u001b[0m\u001b[0;34m,\u001b[0m\u001b[0;34m\u001b[0m\u001b[0;34m\u001b[0m\u001b[0m\n\u001b[0;32m--> 284\u001b[0;31m             \u001b[0muse_scaling_expressions\u001b[0m\u001b[0;34m=\u001b[0m\u001b[0;32mFalse\u001b[0m\u001b[0;34m,\u001b[0m\u001b[0;34m\u001b[0m\u001b[0;34m\u001b[0m\u001b[0m\n\u001b[0m\u001b[1;32m    285\u001b[0m         )\n\u001b[1;32m    286\u001b[0m \u001b[0;34m\u001b[0m\u001b[0m\n",
      "\u001b[0;32m/media/git/OptML/src/omlt/block.py\u001b[0m in \u001b[0;36m_setup_scaled_inputs_outputs\u001b[0;34m(self, scaling_object, input_bounds, use_scaling_expressions)\u001b[0m\n\u001b[1;32m    153\u001b[0m             \u001b[0mself\u001b[0m\u001b[0;34m.\u001b[0m\u001b[0m__scaled_inputs_list\u001b[0m \u001b[0;34m=\u001b[0m \u001b[0mweakref\u001b[0m\u001b[0;34m.\u001b[0m\u001b[0mref\u001b[0m\u001b[0;34m(\u001b[0m\u001b[0mself\u001b[0m\u001b[0;34m.\u001b[0m\u001b[0minputs_list\u001b[0m\u001b[0;34m)\u001b[0m\u001b[0;34m\u001b[0m\u001b[0;34m\u001b[0m\u001b[0m\n\u001b[1;32m    154\u001b[0m             \u001b[0mself\u001b[0m\u001b[0;34m.\u001b[0m\u001b[0m__scaled_outputs_list\u001b[0m \u001b[0;34m=\u001b[0m \u001b[0mweakref\u001b[0m\u001b[0;34m.\u001b[0m\u001b[0mref\u001b[0m\u001b[0;34m(\u001b[0m\u001b[0mself\u001b[0m\u001b[0;34m.\u001b[0m\u001b[0moutputs_list\u001b[0m\u001b[0;34m)\u001b[0m\u001b[0;34m\u001b[0m\u001b[0;34m\u001b[0m\u001b[0m\n\u001b[0;32m--> 155\u001b[0;31m             \u001b[0mself\u001b[0m\u001b[0;34m.\u001b[0m\u001b[0m_setup_input_bounds\u001b[0m\u001b[0;34m(\u001b[0m\u001b[0mself\u001b[0m\u001b[0;34m.\u001b[0m\u001b[0minputs_list\u001b[0m\u001b[0;34m,\u001b[0m \u001b[0minput_bounds\u001b[0m\u001b[0;34m)\u001b[0m\u001b[0;34m\u001b[0m\u001b[0;34m\u001b[0m\u001b[0m\n\u001b[0m\u001b[1;32m    156\u001b[0m \u001b[0;34m\u001b[0m\u001b[0m\n\u001b[1;32m    157\u001b[0m         \u001b[0;32melif\u001b[0m \u001b[0mscaling_object\u001b[0m \u001b[0;32mand\u001b[0m \u001b[0muse_scaling_expressions\u001b[0m\u001b[0;34m:\u001b[0m\u001b[0;34m\u001b[0m\u001b[0;34m\u001b[0m\u001b[0m\n",
      "\u001b[0;32m/media/git/OptML/src/omlt/block.py\u001b[0m in \u001b[0;36m_setup_input_bounds\u001b[0;34m(self, inputs_list, input_bounds)\u001b[0m\n\u001b[1;32m    126\u001b[0m \u001b[0;34m\u001b[0m\u001b[0m\n\u001b[1;32m    127\u001b[0m                 \u001b[0;32mif\u001b[0m \u001b[0mvar\u001b[0m\u001b[0;34m.\u001b[0m\u001b[0mlb\u001b[0m \u001b[0;34m==\u001b[0m \u001b[0;32mNone\u001b[0m\u001b[0;34m:\u001b[0m  \u001b[0;31m# set lower bound to input_bounds value\u001b[0m\u001b[0;34m\u001b[0m\u001b[0;34m\u001b[0m\u001b[0m\n\u001b[0;32m--> 128\u001b[0;31m                     \u001b[0mvar\u001b[0m\u001b[0;34m.\u001b[0m\u001b[0msetlb\u001b[0m\u001b[0;34m(\u001b[0m\u001b[0minput_bounds\u001b[0m\u001b[0;34m[\u001b[0m\u001b[0mi\u001b[0m\u001b[0;34m]\u001b[0m\u001b[0;34m[\u001b[0m\u001b[0;36m0\u001b[0m\u001b[0;34m]\u001b[0m\u001b[0;34m)\u001b[0m\u001b[0;34m\u001b[0m\u001b[0;34m\u001b[0m\u001b[0m\n\u001b[0m\u001b[1;32m    129\u001b[0m                 \u001b[0;32melse\u001b[0m\u001b[0;34m:\u001b[0m\u001b[0;34m\u001b[0m\u001b[0;34m\u001b[0m\u001b[0m\n\u001b[1;32m    130\u001b[0m                     \u001b[0;31m# throw warning if var.lb is more loose than input_bounds value\u001b[0m\u001b[0;34m\u001b[0m\u001b[0;34m\u001b[0m\u001b[0;34m\u001b[0m\u001b[0m\n",
      "\u001b[0;31mTypeError\u001b[0m: 'float' object is not subscriptable"
     ]
    }
   ],
   "source": [
    "#hides the intermediate variables from the optimizer\n",
    "formulation = NeuralNetworkFormulation(net,activation_constraints={\n",
    "            \"relu\": ComplementarityReLUActivation()})\n",
    "\n",
    "#formulation = ReducedSpaceContinuousFormulation(net)\n",
    "\n",
    "#build the formulation on the OMLT block\n",
    "\n",
    "model.nn.build_formulation(formulation)\n",
    "\n",
    "#query inputs and outputs, as well as scaled inputs and outputs\n",
    "#model.nn.inputs_list\n",
    "#model.nn.outputs_list\n",
    "#model.nn.scaled_inputs_list\n",
    "#model.nn.scaled_outputs_list"
   ]
  },
  {
   "cell_type": "markdown",
   "id": "ff4206bc",
   "metadata": {},
   "source": [
    "### Solving the Pyomo Model\n",
    "Now we solve an inverse problem over the neural network to find an input that produces the desired output <br>\n",
    "$\\min (\\hat{y} - p)^2$ <br>\n",
    "$s.t. \\hat{y} = N(x)$"
   ]
  },
  {
   "cell_type": "code",
   "execution_count": null,
   "id": "bd0f1338",
   "metadata": {},
   "outputs": [],
   "source": [
    "model.obj = pyo.Objective(expr=(model.output - 0.5)**2)\n",
    "status = pyo.SolverFactory('ipopt').solve(model, tee=False)\n",
    "print(pyo.value(model.input))\n",
    "print(pyo.value(model.output))"
   ]
  },
  {
   "cell_type": "code",
   "execution_count": 38,
   "id": "bf62c35e",
   "metadata": {},
   "outputs": [
    {
     "ename": "NameError",
     "evalue": "name 'FullSpaceContinuousFormulation' is not defined",
     "output_type": "error",
     "traceback": [
      "\u001b[0;31m---------------------------------------------------------------------------\u001b[0m",
      "\u001b[0;31mNameError\u001b[0m                                 Traceback (most recent call last)",
      "\u001b[0;32m<ipython-input-38-a81d7b16ff24>\u001b[0m in \u001b[0;36m<module>\u001b[0;34m\u001b[0m\n\u001b[0;32m----> 1\u001b[0;31m \u001b[0mformulation\u001b[0m \u001b[0;34m=\u001b[0m \u001b[0mFullSpaceContinuousFormulation\u001b[0m\u001b[0;34m(\u001b[0m\u001b[0mnet\u001b[0m\u001b[0;34m)\u001b[0m\u001b[0;34m\u001b[0m\u001b[0;34m\u001b[0m\u001b[0m\n\u001b[0m",
      "\u001b[0;31mNameError\u001b[0m: name 'FullSpaceContinuousFormulation' is not defined"
     ]
    }
   ],
   "source": [
    "formulation = FullSpaceContinuousFormulation(net)"
   ]
  },
  {
   "cell_type": "code",
   "execution_count": null,
   "id": "2d90b8fc",
   "metadata": {},
   "outputs": [],
   "source": [
    "formulation = ReLUBigMFormulation(net)"
   ]
  },
  {
   "cell_type": "code",
   "execution_count": 65,
   "id": "d725107c",
   "metadata": {},
   "outputs": [
    {
     "ename": "NameError",
     "evalue": "name 'ReLUComplementarityFormulation' is not defined",
     "output_type": "error",
     "traceback": [
      "\u001b[0;31m---------------------------------------------------------------------------\u001b[0m",
      "\u001b[0;31mNameError\u001b[0m                                 Traceback (most recent call last)",
      "\u001b[0;32m<ipython-input-65-a4573edd6847>\u001b[0m in \u001b[0;36m<module>\u001b[0;34m\u001b[0m\n\u001b[0;32m----> 1\u001b[0;31m \u001b[0mformulation\u001b[0m \u001b[0;34m=\u001b[0m \u001b[0mReLUComplementarityFormulation\u001b[0m\u001b[0;34m(\u001b[0m\u001b[0mnet\u001b[0m\u001b[0;34m)\u001b[0m\u001b[0;34m\u001b[0m\u001b[0;34m\u001b[0m\u001b[0m\n\u001b[0m",
      "\u001b[0;31mNameError\u001b[0m: name 'ReLUComplementarityFormulation' is not defined"
     ]
    }
   ],
   "source": [
    "formulation = ReLUComplementarityFormulation(net)"
   ]
  },
  {
   "cell_type": "markdown",
   "id": "8effa313",
   "metadata": {},
   "source": [
    "## FullSpaceContinuousFormulation \n",
    "### TODO: write out what this formulation is\n",
    "\n"
   ]
  },
  {
   "cell_type": "code",
   "execution_count": null,
   "id": "a739ac9d",
   "metadata": {},
   "outputs": [],
   "source": []
  }
 ],
 "metadata": {
  "kernelspec": {
   "display_name": "tensorflow",
   "language": "python",
   "name": "tensorflow"
  },
  "language_info": {
   "codemirror_mode": {
    "name": "ipython",
    "version": 3
   },
   "file_extension": ".py",
   "mimetype": "text/x-python",
   "name": "python",
   "nbconvert_exporter": "python",
   "pygments_lexer": "ipython3",
   "version": "3.7.9"
  }
 },
 "nbformat": 4,
 "nbformat_minor": 5
}
