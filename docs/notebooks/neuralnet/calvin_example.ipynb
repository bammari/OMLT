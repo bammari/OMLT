{
 "cells": [
  {
   "cell_type": "markdown",
   "metadata": {},
   "source": [
    "# Calvin Example\n"
   ]
  },
  {
   "cell_type": "markdown",
   "metadata": {},
   "source": [
    "## Building and training the neural network"
   ]
  },
  {
   "cell_type": "code",
   "execution_count": 6,
   "metadata": {},
   "outputs": [],
   "source": [
    "import numpy as np\n",
    "import torch\n",
    "import torch.nn as nn\n",
    "import torch.nn.functional as F\n",
    "from torch.utils.data import DataLoader, TensorDataset"
   ]
  },
  {
   "cell_type": "markdown",
   "metadata": {},
   "source": [
    "Show how to load the dataset for training"
   ]
  },
  {
   "cell_type": "code",
   "execution_count": 7,
   "metadata": {},
   "outputs": [],
   "source": [
    "X = torch.randn(100, 8)\n",
    "Y = torch.randn(100, 1)"
   ]
  },
  {
   "cell_type": "markdown",
   "metadata": {},
   "source": [
    "Define model"
   ]
  },
  {
   "cell_type": "code",
   "execution_count": 33,
   "metadata": {},
   "outputs": [],
   "source": [
    "\n",
    "\n",
    "class PyTorchModel(nn.Module):\n",
    "    def __init__(self):\n",
    "        super().__init__()\n",
    "        self.dense_0 = nn.Linear(8, 12)\n",
    "        self.dense_1 = nn.Linear(12, 1)\n",
    "        self.out = nn.Linear(1, 1)\n",
    "\n",
    "    def forward(self, x):\n",
    "        x = F.relu(self.dense_0(x))\n",
    "        x = F.relu(self.dense_1(x))\n",
    "        x = F.sigmoid(self.out(x))\n",
    "        return x"
   ]
  },
  {
   "cell_type": "markdown",
   "metadata": {},
   "source": [
    "Train model on dataset"
   ]
  },
  {
   "cell_type": "code",
   "execution_count": 34,
   "metadata": {},
   "outputs": [
    {
     "name": "stderr",
     "output_type": "stream",
     "text": [
      "/home/fra/Hacks/imperial/OptML/_build/pip_packages/lib/python3.8/site-packages/torch/nn/functional.py:1805: UserWarning: nn.functional.sigmoid is deprecated. Use torch.sigmoid instead.\n",
      "  warnings.warn(\"nn.functional.sigmoid is deprecated. Use torch.sigmoid instead.\")\n"
     ]
    },
    {
     "name": "stdout",
     "output_type": "stream",
     "text": [
      "Epoch number: 0 loss : -0.23312444984912872\n",
      "Epoch number: 10 loss : -14.148210525512695\n",
      "Epoch number: 20 loss : -18.780498504638672\n",
      "Epoch number: 30 loss : -19.313873291015625\n",
      "Epoch number: 40 loss : -20.95558738708496\n",
      "Epoch number: 50 loss : -23.250722885131836\n",
      "Epoch number: 60 loss : -24.906482696533203\n",
      "Epoch number: 70 loss : -25.78409767150879\n",
      "Epoch number: 80 loss : -27.761459350585938\n",
      "Epoch number: 90 loss : -30.018569946289062\n",
      "Epoch number: 100 loss : -31.851566314697266\n",
      "Epoch number: 110 loss : -33.668060302734375\n",
      "Epoch number: 120 loss : -35.461246490478516\n",
      "Epoch number: 130 loss : -37.271095275878906\n",
      "Epoch number: 140 loss : -40.38231658935547\n"
     ]
    }
   ],
   "source": [
    "model = PyTorchModel()\n",
    "loss_function = nn.BCELoss()\n",
    "optimizer = torch.optim.Adam(model.parameters(),lr=0.01)\n",
    "\n",
    "dataset = TensorDataset(torch.as_tensor(X, dtype=torch.float32), torch.as_tensor(Y, dtype=torch.float32))\n",
    "dataloader = DataLoader(dataset, batch_size=10)\n",
    "\n",
    "for epoch in range(150):\n",
    "    for id_batch, (x_batch, y_batch) in enumerate(dataloader):\n",
    "        y_batch_pred = model(x_batch)\n",
    "        loss = loss_function(y_batch_pred, y_batch.view(*y_batch_pred.shape))\n",
    "        optimizer.zero_grad()\n",
    "        loss.backward()\n",
    "        optimizer.step()\n",
    "\n",
    "    if epoch % 10 == 0:\n",
    "        print(f\"Epoch number: {epoch} loss : {loss.item()}\")"
   ]
  },
  {
   "cell_type": "markdown",
   "metadata": {},
   "source": [
    "## Building the MIP formulation"
   ]
  },
  {
   "cell_type": "markdown",
   "metadata": {},
   "source": [
    "Need to export to ONNX, the PyTorch ONNX exporter needs to write to a file so we generate a temporary file."
   ]
  },
  {
   "cell_type": "code",
   "execution_count": 10,
   "metadata": {},
   "outputs": [],
   "source": [
    "import torch.onnx\n",
    "import tempfile\n",
    "from omlt.io import write_onnx_model_with_bounds, load_onnx_neural_network_with_bounds"
   ]
  },
  {
   "cell_type": "markdown",
   "metadata": {},
   "source": [
    "We also define bounds on variables"
   ]
  },
  {
   "cell_type": "code",
   "execution_count": 24,
   "metadata": {},
   "outputs": [
    {
     "name": "stdout",
     "output_type": "stream",
     "text": [
      "torch.return_types.min(\n",
      "values=tensor([-2.3405, -2.1813, -2.8423, -2.6981, -2.0519, -2.8156, -2.6504, -1.8242]),\n",
      "indices=tensor([47, 24,  7, 87, 11, 14,  0, 58]))\n"
     ]
    },
    {
     "data": {
      "text/plain": [
       "[(-2.3404769897460938, 2.1179611682891846),\n",
       " (-2.1813483238220215, 2.720587730407715),\n",
       " (-2.8422508239746094, 2.089904308319092),\n",
       " (-2.6981210708618164, 3.1534392833709717),\n",
       " (-2.0519094467163086, 2.3893017768859863),\n",
       " (-2.8155999183654785, 1.9819496870040894),\n",
       " (-2.6503889560699463, 2.9323062896728516),\n",
       " (-1.8241653442382812, 2.2772531509399414)]"
      ]
     },
     "execution_count": 24,
     "metadata": {},
     "output_type": "execute_result"
    }
   ],
   "source": [
    "print(torch.min(X, 0))\n",
    "lb = torch.min(X, 0).values.numpy()\n",
    "ub = torch.max(X, 0).values.numpy()\n",
    "input_bounds = [(float(l), float(u)) for l, u in zip(lb, ub)]\n",
    "input_bounds"
   ]
  },
  {
   "cell_type": "markdown",
   "metadata": {},
   "source": [
    "PyTorch needs to trace the model execution to export it, so we defined a dummy input tensor."
   ]
  },
  {
   "cell_type": "code",
   "execution_count": 22,
   "metadata": {},
   "outputs": [],
   "source": [
    "x = torch.randn(10, 8, requires_grad=True)"
   ]
  },
  {
   "cell_type": "markdown",
   "metadata": {},
   "source": [
    "Now we can write the ONNX model and load it back."
   ]
  },
  {
   "cell_type": "code",
   "execution_count": 25,
   "metadata": {},
   "outputs": [
    {
     "name": "stderr",
     "output_type": "stream",
     "text": [
      "/home/fra/Hacks/imperial/OptML/_build/pip_packages/lib/python3.8/site-packages/torch/nn/functional.py:1805: UserWarning: nn.functional.sigmoid is deprecated. Use torch.sigmoid instead.\n",
      "  warnings.warn(\"nn.functional.sigmoid is deprecated. Use torch.sigmoid instead.\")\n"
     ]
    }
   ],
   "source": [
    "with tempfile.NamedTemporaryFile(suffix='.onnx', delete=False) as f:\n",
    "    torch.onnx.export(\n",
    "        model,\n",
    "        x,\n",
    "        f,\n",
    "        input_names=['input'],\n",
    "        output_names=['output'],\n",
    "        dynamic_axes={\n",
    "            'input': {0: 'batch_size'},\n",
    "            'output': {0: 'batch_size'}\n",
    "        }\n",
    "    )\n",
    "    write_onnx_model_with_bounds(f.name, None, input_bounds)\n",
    "    # load back\n",
    "    network_definition = load_onnx_neural_network_with_bounds(f.name)"
   ]
  },
  {
   "cell_type": "markdown",
   "metadata": {},
   "source": [
    "Create Pyomo model"
   ]
  },
  {
   "cell_type": "code",
   "execution_count": 27,
   "metadata": {},
   "outputs": [],
   "source": [
    "import pyomo.environ as pyo\n",
    "from omlt import OmltBlock\n",
    "from omlt.neuralnet import NeuralNetworkFormulation"
   ]
  },
  {
   "cell_type": "markdown",
   "metadata": {},
   "source": [
    "OMLT doesn't include a formulation for sigmoid, so define it here"
   ]
  },
  {
   "cell_type": "code",
   "execution_count": 38,
   "metadata": {},
   "outputs": [],
   "source": [
    "def sigmoid_activation(net_block, net, layer_block, layer):\n",
    "    @layer_block.Constraint(layer.output_indexes)\n",
    "    def sigmoid_activation(b, *output_index):\n",
    "        # TODO: use real sigmoid\n",
    "        zhat_lb, zhat_ub = b.zhat[output_index].bounds\n",
    "        b.z[output_index].setlb(zhat_lb)\n",
    "        b.z[output_index].setub(zhat_ub)\n",
    "        return b.z[output_index] == b.zhat[output_index]\n"
   ]
  },
  {
   "cell_type": "code",
   "execution_count": 37,
   "metadata": {},
   "outputs": [],
   "source": [
    "formulation = NeuralNetworkFormulation(\n",
    "    network_definition,\n",
    "    activation_constraints={'sigmoid': sigmoid_activation}\n",
    ")\n",
    "\n",
    "m = pyo.ConcreteModel()\n",
    "\n",
    "m.nn = OmltBlock()\n",
    "m.nn.build_formulation(formulation)"
   ]
  },
  {
   "cell_type": "code",
   "execution_count": 39,
   "metadata": {},
   "outputs": [
    {
     "name": "stdout",
     "output_type": "stream",
     "text": [
      "1 Block Declarations\n",
      "    nn : Size=1, Index=None, Active=True\n",
      "        5 Set Declarations\n",
      "            input_assignment_index : Size=1, Index=None, Ordered=False\n",
      "                Key  : Dimen : Domain : Size : Members\n",
      "                None :     1 :    Any :    8 : {0, 1, 2, 3, 4, 5, 6, 7}\n",
      "            inputs_set : Size=1, Index=None, Ordered=Insertion\n",
      "                Key  : Dimen : Domain : Size : Members\n",
      "                None :     1 :    Any :    8 : {0, 1, 2, 3, 4, 5, 6, 7}\n",
      "            layers : Size=1, Index=None, Ordered=Insertion\n",
      "                Key  : Dimen : Domain : Size : Members\n",
      "                None :     1 :    Any :    4 : {140615613157728, 140615614166112, 140615614167216, 140615613157440}\n",
      "            output_assignment_index : Size=1, Index=None, Ordered=False\n",
      "                Key  : Dimen : Domain : Size : Members\n",
      "                None :     1 :    Any :    1 :    {0,}\n",
      "            outputs_set : Size=1, Index=None, Ordered=Insertion\n",
      "                Key  : Dimen : Domain : Size : Members\n",
      "                None :     1 :    Any :    1 :    {0,}\n",
      "\n",
      "        2 Var Declarations\n",
      "            inputs : Size=8, Index=nn.inputs_set\n",
      "                Key : Lower               : Value : Upper              : Fixed : Stale : Domain\n",
      "                  0 : -2.3404769897460938 :     0 : 2.1179611682891846 : False : False :  Reals\n",
      "                  1 : -2.1813483238220215 :     0 :  2.720587730407715 : False : False :  Reals\n",
      "                  2 : -2.8422508239746094 :     0 :  2.089904308319092 : False : False :  Reals\n",
      "                  3 : -2.6981210708618164 :     0 : 3.1534392833709717 : False : False :  Reals\n",
      "                  4 : -2.0519094467163086 :     0 : 2.3893017768859863 : False : False :  Reals\n",
      "                  5 : -2.8155999183654785 :     0 : 1.9819496870040894 : False : False :  Reals\n",
      "                  6 : -2.6503889560699463 :     0 : 2.9323062896728516 : False : False :  Reals\n",
      "                  7 : -1.8241653442382812 :     0 : 2.2772531509399414 : False : False :  Reals\n",
      "            outputs : Size=1, Index=nn.outputs_set\n",
      "                Key : Lower : Value : Upper : Fixed : Stale : Domain\n",
      "                  0 :  None :     0 :  None : False : False :  Reals\n",
      "\n",
      "        2 Constraint Declarations\n",
      "            input_assignment : Size=8, Index=nn.input_assignment_index, Active=True\n",
      "                Key : Lower : Body                                          : Upper : Active\n",
      "                  0 :   0.0 : nn.inputs[0] - nn.layer[140615613157728].z[0] :   0.0 :   True\n",
      "                  1 :   0.0 : nn.inputs[1] - nn.layer[140615613157728].z[1] :   0.0 :   True\n",
      "                  2 :   0.0 : nn.inputs[2] - nn.layer[140615613157728].z[2] :   0.0 :   True\n",
      "                  3 :   0.0 : nn.inputs[3] - nn.layer[140615613157728].z[3] :   0.0 :   True\n",
      "                  4 :   0.0 : nn.inputs[4] - nn.layer[140615613157728].z[4] :   0.0 :   True\n",
      "                  5 :   0.0 : nn.inputs[5] - nn.layer[140615613157728].z[5] :   0.0 :   True\n",
      "                  6 :   0.0 : nn.inputs[6] - nn.layer[140615613157728].z[6] :   0.0 :   True\n",
      "                  7 :   0.0 : nn.inputs[7] - nn.layer[140615613157728].z[7] :   0.0 :   True\n",
      "            output_assignment : Size=1, Index=nn.output_assignment_index, Active=True\n",
      "                Key : Lower : Body                                           : Upper : Active\n",
      "                  0 :   0.0 : nn.outputs[0] - nn.layer[140615613157440].z[0] :   0.0 :   True\n",
      "\n",
      "        1 Block Declarations\n",
      "            layer : Size=4, Index=nn.layers, Active=True\n",
      "                nn.layer[140615613157440] : Active=True\n",
      "                    4 Set Declarations\n",
      "                        dense_layer_index : Size=1, Index=None, Ordered=False\n",
      "                            Key  : Dimen : Domain : Size : Members\n",
      "                            None :     1 :    Any :    1 :    {0,}\n",
      "                        sigmoid_activation_index : Size=1, Index=None, Ordered=False\n",
      "                            Key  : Dimen : Domain : Size : Members\n",
      "                            None :     1 :    Any :    1 :    {0,}\n",
      "                        z_index : Size=1, Index=None, Ordered=False\n",
      "                            Key  : Dimen : Domain : Size : Members\n",
      "                            None :     1 :    Any :    1 :    {0,}\n",
      "                        zhat_index : Size=1, Index=None, Ordered=False\n",
      "                            Key  : Dimen : Domain : Size : Members\n",
      "                            None :     1 :    Any :    1 :    {0,}\n",
      "\n",
      "                    2 Var Declarations\n",
      "                        z : Size=1, Index=nn.layer[140615613157440].z_index\n",
      "                            Key : Lower               : Value : Upper             : Fixed : Stale : Domain\n",
      "                              0 : -12.375876426696777 :     0 : 268.8791295226417 : False : False :  Reals\n",
      "                        zhat : Size=1, Index=nn.layer[140615613157440].zhat_index\n",
      "                            Key : Lower               : Value : Upper             : Fixed : Stale : Domain\n",
      "                              0 : -12.375876426696777 :     0 : 268.8791295226417 : False : False :  Reals\n",
      "\n",
      "                    2 Constraint Declarations\n",
      "                        dense_layer : Size=1, Index=nn.layer[140615613157440].dense_layer_index, Active=True\n",
      "                            Key : Lower : Body                                                                                       : Upper : Active\n",
      "                              0 :   0.0 : nn.layer[140615613157440].zhat[0] - (3.3620753*nn.layer[140615614167216].z[0] - 12.375876) :   0.0 :   True\n",
      "                        sigmoid_activation : Size=1, Index=nn.layer[140615613157440].sigmoid_activation_index, Active=True\n",
      "                            Key : Lower : Body                                                               : Upper : Active\n",
      "                              0 :   0.0 : nn.layer[140615613157440].z[0] - nn.layer[140615613157440].zhat[0] :   0.0 :   True\n",
      "\n",
      "                    8 Declarations: z_index z zhat_index zhat dense_layer_index dense_layer sigmoid_activation_index sigmoid_activation\n",
      "                nn.layer[140615613157728] : Active=True\n",
      "                    1 Set Declarations\n",
      "                        z_index : Size=1, Index=None, Ordered=False\n",
      "                            Key  : Dimen : Domain : Size : Members\n",
      "                            None :     1 :    Any :    8 : {0, 1, 2, 3, 4, 5, 6, 7}\n",
      "\n",
      "                    1 Var Declarations\n",
      "                        z : Size=8, Index=nn.layer[140615613157728].z_index\n",
      "                            Key : Lower               : Value : Upper              : Fixed : Stale : Domain\n",
      "                              0 : -2.3404769897460938 :     0 : 2.1179611682891846 : False : False :  Reals\n",
      "                              1 : -2.1813483238220215 :     0 :  2.720587730407715 : False : False :  Reals\n",
      "                              2 : -2.8422508239746094 :     0 :  2.089904308319092 : False : False :  Reals\n",
      "                              3 : -2.6981210708618164 :     0 : 3.1534392833709717 : False : False :  Reals\n",
      "                              4 : -2.0519094467163086 :     0 : 2.3893017768859863 : False : False :  Reals\n",
      "                              5 : -2.8155999183654785 :     0 : 1.9819496870040894 : False : False :  Reals\n",
      "                              6 : -2.6503889560699463 :     0 : 2.9323062896728516 : False : False :  Reals\n",
      "                              7 : -1.8241653442382812 :     0 : 2.2772531509399414 : False : False :  Reals\n",
      "\n",
      "                    2 Declarations: z_index z\n",
      "                nn.layer[140615614166112] : Active=True\n",
      "                    10 Set Declarations\n",
      "                        _big_m_lb_index : Size=1, Index=None, Ordered=False\n",
      "                            Key  : Dimen : Domain : Size : Members\n",
      "                            None :     1 :    Any :   12 : {0, 1, 2, 3, 4, 5, 6, 7, 8, 9, 10, 11}\n",
      "                        _big_m_ub_index : Size=1, Index=None, Ordered=False\n",
      "                            Key  : Dimen : Domain : Size : Members\n",
      "                            None :     1 :    Any :   12 : {0, 1, 2, 3, 4, 5, 6, 7, 8, 9, 10, 11}\n",
      "                        _z_lower_bound_index : Size=1, Index=None, Ordered=False\n",
      "                            Key  : Dimen : Domain : Size : Members\n",
      "                            None :     1 :    Any :   12 : {0, 1, 2, 3, 4, 5, 6, 7, 8, 9, 10, 11}\n",
      "                        _z_lower_bound_zhat_index : Size=1, Index=None, Ordered=False\n",
      "                            Key  : Dimen : Domain : Size : Members\n",
      "                            None :     1 :    Any :   12 : {0, 1, 2, 3, 4, 5, 6, 7, 8, 9, 10, 11}\n",
      "                        _z_upper_bound_index : Size=1, Index=None, Ordered=False\n",
      "                            Key  : Dimen : Domain : Size : Members\n",
      "                            None :     1 :    Any :   12 : {0, 1, 2, 3, 4, 5, 6, 7, 8, 9, 10, 11}\n",
      "                        _z_upper_bound_zhat_index : Size=1, Index=None, Ordered=False\n",
      "                            Key  : Dimen : Domain : Size : Members\n",
      "                            None :     1 :    Any :   12 : {0, 1, 2, 3, 4, 5, 6, 7, 8, 9, 10, 11}\n",
      "                        dense_layer_index : Size=1, Index=None, Ordered=False\n",
      "                            Key  : Dimen : Domain : Size : Members\n",
      "                            None :     1 :    Any :   12 : {0, 1, 2, 3, 4, 5, 6, 7, 8, 9, 10, 11}\n",
      "                        q_index : Size=1, Index=None, Ordered=False\n",
      "                            Key  : Dimen : Domain : Size : Members\n",
      "                            None :     1 :    Any :   12 : {0, 1, 2, 3, 4, 5, 6, 7, 8, 9, 10, 11}\n",
      "                        z_index : Size=1, Index=None, Ordered=False\n",
      "                            Key  : Dimen : Domain : Size : Members\n",
      "                            None :     1 :    Any :   12 : {0, 1, 2, 3, 4, 5, 6, 7, 8, 9, 10, 11}\n",
      "                        zhat_index : Size=1, Index=None, Ordered=False\n",
      "                            Key  : Dimen : Domain : Size : Members\n",
      "                            None :     1 :    Any :   12 : {0, 1, 2, 3, 4, 5, 6, 7, 8, 9, 10, 11}\n",
      "\n",
      "                    2 Param Declarations\n",
      "                        _big_m_lb : Size=12, Index=nn.layer[140615614166112]._big_m_lb_index, Domain=Any, Default=-1000000.0, Mutable=True\n",
      "                            Key : Value\n",
      "                              0 :  -13.56984070789752\n",
      "                              1 :  -9.592384714690061\n",
      "                              2 : -10.866442028147459\n",
      "                              3 :  -9.389428929747783\n",
      "                              4 : -11.100468557807552\n",
      "                              5 :  -16.83663576901813\n",
      "                              6 : -14.227146098675952\n",
      "                              7 : -11.262850419660598\n",
      "                              8 : -12.961020805767028\n",
      "                              9 : -10.644680949795639\n",
      "                             10 :  -9.616585460893354\n",
      "                             11 : -17.110948445062235\n",
      "                        _big_m_ub : Size=12, Index=nn.layer[140615614166112]._big_m_ub_index, Domain=Any, Default=1000000.0, Mutable=True\n",
      "                            Key : Value\n",
      "                              0 : 12.488263937294434\n",
      "                              1 :  9.031184781143999\n",
      "                              2 :  14.47434852210339\n",
      "                              3 :  8.042438905052926\n",
      "                              4 : 10.668849503377842\n",
      "                              5 : 14.234467025696397\n",
      "                              6 : 14.778577630628305\n",
      "                              7 : 13.953685053058512\n",
      "                              8 : 10.847628581974625\n",
      "                              9 : 12.410694634976863\n",
      "                             10 :  11.18064536419519\n",
      "                             11 : 15.126643643707489\n",
      "\n",
      "                    3 Var Declarations\n",
      "                        q : Size=12, Index=nn.layer[140615614166112].q_index\n",
      "                            Key : Lower : Value : Upper : Fixed : Stale : Domain\n",
      "                              0 :     0 :  None :     1 : False :  True : Binary\n",
      "                              1 :     0 :  None :     1 : False :  True : Binary\n",
      "                              2 :     0 :  None :     1 : False :  True : Binary\n",
      "                              3 :     0 :  None :     1 : False :  True : Binary\n",
      "                              4 :     0 :  None :     1 : False :  True : Binary\n",
      "                              5 :     0 :  None :     1 : False :  True : Binary\n",
      "                              6 :     0 :  None :     1 : False :  True : Binary\n",
      "                              7 :     0 :  None :     1 : False :  True : Binary\n",
      "                              8 :     0 :  None :     1 : False :  True : Binary\n",
      "                              9 :     0 :  None :     1 : False :  True : Binary\n",
      "                             10 :     0 :  None :     1 : False :  True : Binary\n",
      "                             11 :     0 :  None :     1 : False :  True : Binary\n",
      "                        z : Size=12, Index=nn.layer[140615614166112].z_index\n",
      "                            Key : Lower : Value : Upper              : Fixed : Stale : Domain\n",
      "                              0 :     0 :     0 : 12.488263937294434 : False : False :  Reals\n",
      "                              1 :     0 :     0 :  9.031184781143999 : False : False :  Reals\n",
      "                              2 :     0 :     0 :  14.47434852210339 : False : False :  Reals\n",
      "                              3 :     0 :     0 :  8.042438905052926 : False : False :  Reals\n",
      "                              4 :     0 :     0 : 10.668849503377842 : False : False :  Reals\n",
      "                              5 :     0 :     0 : 14.234467025696397 : False : False :  Reals\n",
      "                              6 :     0 :     0 : 14.778577630628305 : False : False :  Reals\n",
      "                              7 :     0 :     0 : 13.953685053058512 : False : False :  Reals\n",
      "                              8 :     0 :     0 : 10.847628581974625 : False : False :  Reals\n",
      "                              9 :     0 :     0 : 12.410694634976863 : False : False :  Reals\n",
      "                             10 :     0 :     0 :  11.18064536419519 : False : False :  Reals\n",
      "                             11 :     0 :     0 : 15.126643643707489 : False : False :  Reals\n",
      "                        zhat : Size=12, Index=nn.layer[140615614166112].zhat_index\n",
      "                            Key : Lower               : Value : Upper              : Fixed : Stale : Domain\n",
      "                              0 :  -13.56984070789752 :     0 : 12.488263937294434 : False : False :  Reals\n",
      "                              1 :  -9.592384714690061 :     0 :  9.031184781143999 : False : False :  Reals\n",
      "                              2 : -10.866442028147459 :     0 :  14.47434852210339 : False : False :  Reals\n",
      "                              3 :  -9.389428929747783 :     0 :  8.042438905052926 : False : False :  Reals\n",
      "                              4 : -11.100468557807552 :     0 : 10.668849503377842 : False : False :  Reals\n",
      "                              5 :  -16.83663576901813 :     0 : 14.234467025696397 : False : False :  Reals\n",
      "                              6 : -14.227146098675952 :     0 : 14.778577630628305 : False : False :  Reals\n",
      "                              7 : -11.262850419660598 :     0 : 13.953685053058512 : False : False :  Reals\n",
      "                              8 : -12.961020805767028 :     0 : 10.847628581974625 : False : False :  Reals\n",
      "                              9 : -10.644680949795639 :     0 : 12.410694634976863 : False : False :  Reals\n",
      "                             10 :  -9.616585460893354 :     0 :  11.18064536419519 : False : False :  Reals\n",
      "                             11 : -17.110948445062235 :     0 : 15.126643643707489 : False : False :  Reals\n",
      "\n",
      "                    5 Constraint Declarations\n",
      "                        _z_lower_bound : Size=12, Index=nn.layer[140615614166112]._z_lower_bound_index, Active=True\n",
      "                            Key : Lower : Body                            : Upper : Active\n",
      "                              0 :   0.0 :  nn.layer[140615614166112].z[0] :  +Inf :   True\n",
      "                              1 :   0.0 :  nn.layer[140615614166112].z[1] :  +Inf :   True\n",
      "                              2 :   0.0 :  nn.layer[140615614166112].z[2] :  +Inf :   True\n",
      "                              3 :   0.0 :  nn.layer[140615614166112].z[3] :  +Inf :   True\n",
      "                              4 :   0.0 :  nn.layer[140615614166112].z[4] :  +Inf :   True\n",
      "                              5 :   0.0 :  nn.layer[140615614166112].z[5] :  +Inf :   True\n",
      "                              6 :   0.0 :  nn.layer[140615614166112].z[6] :  +Inf :   True\n",
      "                              7 :   0.0 :  nn.layer[140615614166112].z[7] :  +Inf :   True\n",
      "                              8 :   0.0 :  nn.layer[140615614166112].z[8] :  +Inf :   True\n",
      "                              9 :   0.0 :  nn.layer[140615614166112].z[9] :  +Inf :   True\n",
      "                             10 :   0.0 : nn.layer[140615614166112].z[10] :  +Inf :   True\n",
      "                             11 :   0.0 : nn.layer[140615614166112].z[11] :  +Inf :   True\n",
      "                        _z_lower_bound_zhat : Size=12, Index=nn.layer[140615614166112]._z_lower_bound_zhat_index, Active=True\n",
      "                            Key : Lower : Body                                                                 : Upper : Active\n",
      "                              0 :  -Inf :   nn.layer[140615614166112].zhat[0] - nn.layer[140615614166112].z[0] :   0.0 :   True\n",
      "                              1 :  -Inf :   nn.layer[140615614166112].zhat[1] - nn.layer[140615614166112].z[1] :   0.0 :   True\n",
      "                              2 :  -Inf :   nn.layer[140615614166112].zhat[2] - nn.layer[140615614166112].z[2] :   0.0 :   True\n",
      "                              3 :  -Inf :   nn.layer[140615614166112].zhat[3] - nn.layer[140615614166112].z[3] :   0.0 :   True\n",
      "                              4 :  -Inf :   nn.layer[140615614166112].zhat[4] - nn.layer[140615614166112].z[4] :   0.0 :   True\n",
      "                              5 :  -Inf :   nn.layer[140615614166112].zhat[5] - nn.layer[140615614166112].z[5] :   0.0 :   True\n",
      "                              6 :  -Inf :   nn.layer[140615614166112].zhat[6] - nn.layer[140615614166112].z[6] :   0.0 :   True\n",
      "                              7 :  -Inf :   nn.layer[140615614166112].zhat[7] - nn.layer[140615614166112].z[7] :   0.0 :   True\n",
      "                              8 :  -Inf :   nn.layer[140615614166112].zhat[8] - nn.layer[140615614166112].z[8] :   0.0 :   True\n",
      "                              9 :  -Inf :   nn.layer[140615614166112].zhat[9] - nn.layer[140615614166112].z[9] :   0.0 :   True\n",
      "                             10 :  -Inf : nn.layer[140615614166112].zhat[10] - nn.layer[140615614166112].z[10] :   0.0 :   True\n",
      "                             11 :  -Inf : nn.layer[140615614166112].zhat[11] - nn.layer[140615614166112].z[11] :   0.0 :   True\n",
      "                        _z_upper_bound : Size=12, Index=nn.layer[140615614166112]._z_upper_bound_index, Active=True\n",
      "                            Key : Lower : Body                                                                                                      : Upper : Active\n",
      "                              0 :  -Inf :    nn.layer[140615614166112].z[0] - nn.layer[140615614166112]._big_m_ub[0]*nn.layer[140615614166112].q[0] :   0.0 :   True\n",
      "                              1 :  -Inf :    nn.layer[140615614166112].z[1] - nn.layer[140615614166112]._big_m_ub[1]*nn.layer[140615614166112].q[1] :   0.0 :   True\n",
      "                              2 :  -Inf :    nn.layer[140615614166112].z[2] - nn.layer[140615614166112]._big_m_ub[2]*nn.layer[140615614166112].q[2] :   0.0 :   True\n",
      "                              3 :  -Inf :    nn.layer[140615614166112].z[3] - nn.layer[140615614166112]._big_m_ub[3]*nn.layer[140615614166112].q[3] :   0.0 :   True\n",
      "                              4 :  -Inf :    nn.layer[140615614166112].z[4] - nn.layer[140615614166112]._big_m_ub[4]*nn.layer[140615614166112].q[4] :   0.0 :   True\n",
      "                              5 :  -Inf :    nn.layer[140615614166112].z[5] - nn.layer[140615614166112]._big_m_ub[5]*nn.layer[140615614166112].q[5] :   0.0 :   True\n",
      "                              6 :  -Inf :    nn.layer[140615614166112].z[6] - nn.layer[140615614166112]._big_m_ub[6]*nn.layer[140615614166112].q[6] :   0.0 :   True\n",
      "                              7 :  -Inf :    nn.layer[140615614166112].z[7] - nn.layer[140615614166112]._big_m_ub[7]*nn.layer[140615614166112].q[7] :   0.0 :   True\n",
      "                              8 :  -Inf :    nn.layer[140615614166112].z[8] - nn.layer[140615614166112]._big_m_ub[8]*nn.layer[140615614166112].q[8] :   0.0 :   True\n",
      "                              9 :  -Inf :    nn.layer[140615614166112].z[9] - nn.layer[140615614166112]._big_m_ub[9]*nn.layer[140615614166112].q[9] :   0.0 :   True\n",
      "                             10 :  -Inf : nn.layer[140615614166112].z[10] - nn.layer[140615614166112]._big_m_ub[10]*nn.layer[140615614166112].q[10] :   0.0 :   True\n",
      "                             11 :  -Inf : nn.layer[140615614166112].z[11] - nn.layer[140615614166112]._big_m_ub[11]*nn.layer[140615614166112].q[11] :   0.0 :   True\n",
      "                        _z_upper_bound_zhat : Size=12, Index=nn.layer[140615614166112]._z_upper_bound_zhat_index, Active=True\n",
      "                            Key : Lower : Body                                                                                                                                                     : Upper : Active\n",
      "                              0 :  -Inf :     nn.layer[140615614166112].z[0] - (nn.layer[140615614166112].zhat[0] - nn.layer[140615614166112]._big_m_lb[0]*(1.0 - nn.layer[140615614166112].q[0])) :   0.0 :   True\n",
      "                              1 :  -Inf :     nn.layer[140615614166112].z[1] - (nn.layer[140615614166112].zhat[1] - nn.layer[140615614166112]._big_m_lb[1]*(1.0 - nn.layer[140615614166112].q[1])) :   0.0 :   True\n",
      "                              2 :  -Inf :     nn.layer[140615614166112].z[2] - (nn.layer[140615614166112].zhat[2] - nn.layer[140615614166112]._big_m_lb[2]*(1.0 - nn.layer[140615614166112].q[2])) :   0.0 :   True\n",
      "                              3 :  -Inf :     nn.layer[140615614166112].z[3] - (nn.layer[140615614166112].zhat[3] - nn.layer[140615614166112]._big_m_lb[3]*(1.0 - nn.layer[140615614166112].q[3])) :   0.0 :   True\n",
      "                              4 :  -Inf :     nn.layer[140615614166112].z[4] - (nn.layer[140615614166112].zhat[4] - nn.layer[140615614166112]._big_m_lb[4]*(1.0 - nn.layer[140615614166112].q[4])) :   0.0 :   True\n",
      "                              5 :  -Inf :     nn.layer[140615614166112].z[5] - (nn.layer[140615614166112].zhat[5] - nn.layer[140615614166112]._big_m_lb[5]*(1.0 - nn.layer[140615614166112].q[5])) :   0.0 :   True\n",
      "                              6 :  -Inf :     nn.layer[140615614166112].z[6] - (nn.layer[140615614166112].zhat[6] - nn.layer[140615614166112]._big_m_lb[6]*(1.0 - nn.layer[140615614166112].q[6])) :   0.0 :   True\n",
      "                              7 :  -Inf :     nn.layer[140615614166112].z[7] - (nn.layer[140615614166112].zhat[7] - nn.layer[140615614166112]._big_m_lb[7]*(1.0 - nn.layer[140615614166112].q[7])) :   0.0 :   True\n",
      "                              8 :  -Inf :     nn.layer[140615614166112].z[8] - (nn.layer[140615614166112].zhat[8] - nn.layer[140615614166112]._big_m_lb[8]*(1.0 - nn.layer[140615614166112].q[8])) :   0.0 :   True\n",
      "                              9 :  -Inf :     nn.layer[140615614166112].z[9] - (nn.layer[140615614166112].zhat[9] - nn.layer[140615614166112]._big_m_lb[9]*(1.0 - nn.layer[140615614166112].q[9])) :   0.0 :   True\n",
      "                             10 :  -Inf : nn.layer[140615614166112].z[10] - (nn.layer[140615614166112].zhat[10] - nn.layer[140615614166112]._big_m_lb[10]*(1.0 - nn.layer[140615614166112].q[10])) :   0.0 :   True\n",
      "                             11 :  -Inf : nn.layer[140615614166112].z[11] - (nn.layer[140615614166112].zhat[11] - nn.layer[140615614166112]._big_m_lb[11]*(1.0 - nn.layer[140615614166112].q[11])) :   0.0 :   True\n",
      "                        dense_layer : Size=12, Index=nn.layer[140615614166112].dense_layer_index, Active=True\n",
      "                            Key : Lower : Body                                                                                                                                                                                                                                                                                                                                                                                                             : Upper : Active\n",
      "                              0 :   0.0 :        nn.layer[140615614166112].zhat[0] - (0.2695517*nn.layer[140615613157728].z[0] - 1.7588643*nn.layer[140615613157728].z[1] - 0.271195*nn.layer[140615613157728].z[2] - 0.29828295*nn.layer[140615613157728].z[3] - 0.5920031*nn.layer[140615613157728].z[4] - 0.8609966*nn.layer[140615613157728].z[5] - 1.0036026*nn.layer[140615613157728].z[6] + 0.19232273*nn.layer[140615613157728].z[7] - 0.23180304) :   0.0 :   True\n",
      "                              1 :   0.0 : nn.layer[140615614166112].zhat[1] - (-0.033004515*nn.layer[140615613157728].z[0] + 0.14596172*nn.layer[140615613157728].z[1] - 0.45368645*nn.layer[140615613157728].z[2] - 0.2128323*nn.layer[140615613157728].z[3] + 0.8974749*nn.layer[140615613157728].z[4] + 0.87183297*nn.layer[140615613157728].z[5] - 0.28718296*nn.layer[140615613157728].z[6] - 1.0986639*nn.layer[140615613157728].z[7] + 0.055540215) :   0.0 :   True\n",
      "                              2 :   0.0 :    nn.layer[140615614166112].zhat[2] - (0.29604986*nn.layer[140615613157728].z[0] + 1.1331065*nn.layer[140615613157728].z[1] + 0.28159758*nn.layer[140615613157728].z[2] + 1.7409772*nn.layer[140615613157728].z[3] - 0.12418725*nn.layer[140615613157728].z[4] - 0.12586604*nn.layer[140615613157728].z[5] - 0.47374088*nn.layer[140615613157728].z[6] + 0.75339735*nn.layer[140615613157728].z[7] + 1.1055496) :   0.0 :   True\n",
      "                              3 :   0.0 : nn.layer[140615614166112].zhat[3] - (-0.45609242*nn.layer[140615613157728].z[0] - 0.07014625*nn.layer[140615613157728].z[1] + 0.37580237*nn.layer[140615613157728].z[2] + 0.05339553*nn.layer[140615613157728].z[3] + 0.8913227*nn.layer[140615613157728].z[4] + 0.47363746*nn.layer[140615613157728].z[5] - 0.62720615*nn.layer[140615613157728].z[6] - 0.76954854*nn.layer[140615613157728].z[7] - 0.26630732) :   0.0 :   True\n",
      "                              4 :   0.0 :     nn.layer[140615614166112].zhat[4] - (-0.37175798*nn.layer[140615613157728].z[0] + 0.38897902*nn.layer[140615613157728].z[1] - 0.3826487*nn.layer[140615613157728].z[2] - 0.18111679*nn.layer[140615613157728].z[3] + 1.160801*nn.layer[140615613157728].z[4] + 0.6703059*nn.layer[140615613157728].z[5] - 0.35431722*nn.layer[140615613157728].z[6] - 1.1968483*nn.layer[140615613157728].z[7] - 0.06009586) :   0.0 :   True\n",
      "                              5 :   0.0 :     nn.layer[140615614166112].zhat[5] - (1.137474*nn.layer[140615613157728].z[0] - 2.2018554*nn.layer[140615613157728].z[1] + 0.071701735*nn.layer[140615613157728].z[2] - 0.2574334*nn.layer[140615613157728].z[3] + 0.009979842*nn.layer[140615613157728].z[4] + 1.4240799*nn.layer[140615613157728].z[5] - 0.6565446*nn.layer[140615613157728].z[6] - 0.68382555*nn.layer[140615613157728].z[7] + 0.34408242) :   0.0 :   True\n",
      "                              6 :   0.0 :      nn.layer[140615614166112].zhat[6] - (0.2717229*nn.layer[140615613157728].z[0] - 0.26057577*nn.layer[140615613157728].z[1] - 1.3718302*nn.layer[140615613157728].z[2] + 0.66256124*nn.layer[140615613157728].z[3] + 0.52249205*nn.layer[140615613157728].z[4] - 0.83671004*nn.layer[140615613157728].z[5] + 0.5393664*nn.layer[140615613157728].z[6] - 1.591661*nn.layer[140615613157728].z[7] - 0.44303194) :   0.0 :   True\n",
      "                              7 :   0.0 :       nn.layer[140615614166112].zhat[7] - (0.07306137*nn.layer[140615613157728].z[0] + 1.0396452*nn.layer[140615613157728].z[1] + 0.6262304*nn.layer[140615613157728].z[2] + 1.3809688*nn.layer[140615613157728].z[3] - 0.090019815*nn.layer[140615613157728].z[4] - 0.9412338*nn.layer[140615613157728].z[5] - 0.4171521*nn.layer[140615613157728].z[6] + 0.336661*nn.layer[140615613157728].z[7] + 0.59980696) :   0.0 :   True\n",
      "                              8 :   0.0 :    nn.layer[140615614166112].zhat[8] - (-0.5513793*nn.layer[140615613157728].z[0] - 0.045250557*nn.layer[140615613157728].z[1] + 0.46551412*nn.layer[140615613157728].z[2] - 0.008617658*nn.layer[140615613157728].z[3] + 1.1939899*nn.layer[140615613157728].z[4] + 0.73928845*nn.layer[140615613157728].z[5] - 0.9492718*nn.layer[140615613157728].z[6] - 1.1296334*nn.layer[140615613157728].z[7] - 0.432313) :   0.0 :   True\n",
      "                              9 :   0.0 :    nn.layer[140615614166112].zhat[9] - (0.069928385*nn.layer[140615613157728].z[0] + 1.0497236*nn.layer[140615613157728].z[1] + 0.7213417*nn.layer[140615613157728].z[2] + 1.2567317*nn.layer[140615613157728].z[3] - 0.008694062*nn.layer[140615613157728].z[4] - 0.8293574*nn.layer[140615613157728].z[5] - 0.3895855*nn.layer[140615613157728].z[6] + 0.12041753*nn.layer[140615613157728].z[7] + 0.27640906) :   0.0 :   True\n",
      "                             10 :   0.0 :  nn.layer[140615614166112].zhat[10] - (0.06283614*nn.layer[140615613157728].z[0] - 0.54134697*nn.layer[140615613157728].z[1] + 0.36616272*nn.layer[140615613157728].z[2] - 0.6104425*nn.layer[140615613157728].z[3] + 0.12168265*nn.layer[140615613157728].z[4] - 1.2205393*nn.layer[140615613157728].z[5] - 0.40411523*nn.layer[140615613157728].z[6] + 0.93464017*nn.layer[140615613157728].z[7] + 0.52763987) :   0.0 :   True\n",
      "                             11 :   0.0 :     nn.layer[140615614166112].zhat[11] - (-0.32592702*nn.layer[140615613157728].z[0] + 0.7942819*nn.layer[140615613157728].z[1] + 0.61992735*nn.layer[140615613157728].z[2] - 0.8802229*nn.layer[140615613157728].z[3] - 1.940871*nn.layer[140615613157728].z[4] + 0.49815494*nn.layer[140615613157728].z[5] - 0.8113222*nn.layer[140615613157728].z[6] + 0.7664632*nn.layer[140615613157728].z[7] - 0.33319125) :   0.0 :   True\n",
      "\n",
      "                    20 Declarations: z_index z zhat_index zhat dense_layer_index dense_layer q_index q _z_lower_bound_index _z_lower_bound _z_lower_bound_zhat_index _z_lower_bound_zhat _z_upper_bound_index _z_upper_bound _z_upper_bound_zhat_index _z_upper_bound_zhat _big_m_lb_index _big_m_lb _big_m_ub_index _big_m_ub\n",
      "                nn.layer[140615614167216] : Active=True\n",
      "                    10 Set Declarations\n",
      "                        _big_m_lb_index : Size=1, Index=None, Ordered=False\n",
      "                            Key  : Dimen : Domain : Size : Members\n",
      "                            None :     1 :    Any :    1 :    {0,}\n",
      "                        _big_m_ub_index : Size=1, Index=None, Ordered=False\n",
      "                            Key  : Dimen : Domain : Size : Members\n",
      "                            None :     1 :    Any :    1 :    {0,}\n",
      "                        _z_lower_bound_index : Size=1, Index=None, Ordered=False\n",
      "                            Key  : Dimen : Domain : Size : Members\n",
      "                            None :     1 :    Any :    1 :    {0,}\n",
      "                        _z_lower_bound_zhat_index : Size=1, Index=None, Ordered=False\n",
      "                            Key  : Dimen : Domain : Size : Members\n",
      "                            None :     1 :    Any :    1 :    {0,}\n",
      "                        _z_upper_bound_index : Size=1, Index=None, Ordered=False\n",
      "                            Key  : Dimen : Domain : Size : Members\n",
      "                            None :     1 :    Any :    1 :    {0,}\n",
      "                        _z_upper_bound_zhat_index : Size=1, Index=None, Ordered=False\n",
      "                            Key  : Dimen : Domain : Size : Members\n",
      "                            None :     1 :    Any :    1 :    {0,}\n",
      "                        dense_layer_index : Size=1, Index=None, Ordered=False\n",
      "                            Key  : Dimen : Domain : Size : Members\n",
      "                            None :     1 :    Any :    1 :    {0,}\n",
      "                        q_index : Size=1, Index=None, Ordered=False\n",
      "                            Key  : Dimen : Domain : Size : Members\n",
      "                            None :     1 :    Any :    1 :    {0,}\n",
      "                        z_index : Size=1, Index=None, Ordered=False\n",
      "                            Key  : Dimen : Domain : Size : Members\n",
      "                            None :     1 :    Any :    1 :    {0,}\n",
      "                        zhat_index : Size=1, Index=None, Ordered=False\n",
      "                            Key  : Dimen : Domain : Size : Members\n",
      "                            None :     1 :    Any :    1 :    {0,}\n",
      "\n",
      "                    2 Param Declarations\n",
      "                        _big_m_lb : Size=1, Index=nn.layer[140615614167216]._big_m_lb_index, Domain=Any, Default=-1000000.0, Mutable=True\n",
      "                            Key : Value\n",
      "                              0 : -123.16171024899064\n",
      "                        _big_m_ub : Size=1, Index=nn.layer[140615614167216]._big_m_ub_index, Domain=Any, Default=1000000.0, Mutable=True\n",
      "                            Key : Value\n",
      "                              0 : 83.65517677067456\n",
      "\n",
      "                    3 Var Declarations\n",
      "                        q : Size=1, Index=nn.layer[140615614167216].q_index\n",
      "                            Key : Lower : Value : Upper : Fixed : Stale : Domain\n",
      "                              0 :     0 :  None :     1 : False :  True : Binary\n",
      "                        z : Size=1, Index=nn.layer[140615614167216].z_index\n",
      "                            Key : Lower : Value : Upper             : Fixed : Stale : Domain\n",
      "                              0 :     0 :     0 : 83.65517677067456 : False : False :  Reals\n",
      "                        zhat : Size=1, Index=nn.layer[140615614167216].zhat_index\n",
      "                            Key : Lower               : Value : Upper             : Fixed : Stale : Domain\n",
      "                              0 : -123.16171024899064 :     0 : 83.65517677067456 : False : False :  Reals\n",
      "\n",
      "                    5 Constraint Declarations\n",
      "                        _z_lower_bound : Size=1, Index=nn.layer[140615614167216]._z_lower_bound_index, Active=True\n",
      "                            Key : Lower : Body                           : Upper : Active\n",
      "                              0 :   0.0 : nn.layer[140615614167216].z[0] :  +Inf :   True\n",
      "                        _z_lower_bound_zhat : Size=1, Index=nn.layer[140615614167216]._z_lower_bound_zhat_index, Active=True\n",
      "                            Key : Lower : Body                                                               : Upper : Active\n",
      "                              0 :  -Inf : nn.layer[140615614167216].zhat[0] - nn.layer[140615614167216].z[0] :   0.0 :   True\n",
      "                        _z_upper_bound : Size=1, Index=nn.layer[140615614167216]._z_upper_bound_index, Active=True\n",
      "                            Key : Lower : Body                                                                                                   : Upper : Active\n",
      "                              0 :  -Inf : nn.layer[140615614167216].z[0] - nn.layer[140615614167216]._big_m_ub[0]*nn.layer[140615614167216].q[0] :   0.0 :   True\n",
      "                        _z_upper_bound_zhat : Size=1, Index=nn.layer[140615614167216]._z_upper_bound_zhat_index, Active=True\n",
      "                            Key : Lower : Body                                                                                                                                                 : Upper : Active\n",
      "                              0 :  -Inf : nn.layer[140615614167216].z[0] - (nn.layer[140615614167216].zhat[0] - nn.layer[140615614167216]._big_m_lb[0]*(1.0 - nn.layer[140615614167216].q[0])) :   0.0 :   True\n",
      "                        dense_layer : Size=1, Index=nn.layer[140615614167216].dense_layer_index, Active=True\n",
      "                            Key : Lower : Body                                                                                                                                                                                                                                                                                                                                                                                                                                                                                                                                                                                      : Upper : Active\n",
      "                              0 :   0.0 : nn.layer[140615614167216].zhat[0] - (-0.7240049*nn.layer[140615614166112].z[0] + 0.65611386*nn.layer[140615614166112].z[1] - 2.1489851*nn.layer[140615614166112].z[2] + 0.77987075*nn.layer[140615614166112].z[3] + 0.89600104*nn.layer[140615614166112].z[4] - 2.5006387*nn.layer[140615614166112].z[5] + 1.3462677*nn.layer[140615614166112].z[6] - 1.6730406*nn.layer[140615614166112].z[7] + 1.3022548*nn.layer[140615614166112].z[8] - 1.334771*nn.layer[140615614166112].z[9] - 0.66221744*nn.layer[140615614166112].z[10] + 1.849797*nn.layer[140615614166112].z[11] - 0.10519013) :   0.0 :   True\n",
      "\n",
      "                    20 Declarations: z_index z zhat_index zhat dense_layer_index dense_layer q_index q _z_lower_bound_index _z_lower_bound _z_lower_bound_zhat_index _z_lower_bound_zhat _z_upper_bound_index _z_upper_bound _z_upper_bound_zhat_index _z_upper_bound_zhat _big_m_lb_index _big_m_lb _big_m_ub_index _big_m_ub\n",
      "\n",
      "        10 Declarations: inputs_set inputs outputs_set outputs layers layer input_assignment_index input_assignment output_assignment_index output_assignment\n",
      "\n",
      "1 Declarations: nn\n"
     ]
    }
   ],
   "source": [
    "m.pprint()"
   ]
  }
 ],
 "metadata": {
  "interpreter": {
   "hash": "b8f31a8284ce774e9ad8d309790c576c984c0620550967f9ef361ac8e66f487d"
  },
  "kernelspec": {
   "display_name": "Python 3.8.11 64-bit ('venv': venv)",
   "language": "python",
   "name": "python3"
  },
  "language_info": {
   "codemirror_mode": {
    "name": "ipython",
    "version": 3
   },
   "file_extension": ".py",
   "mimetype": "text/x-python",
   "name": "python",
   "nbconvert_exporter": "python",
   "pygments_lexer": "ipython3",
   "version": "3.8.11"
  },
  "orig_nbformat": 4
 },
 "nbformat": 4,
 "nbformat_minor": 2
}
